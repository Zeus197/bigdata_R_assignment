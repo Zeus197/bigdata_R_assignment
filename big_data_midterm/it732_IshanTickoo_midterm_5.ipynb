{
 "cells": [
  {
   "cell_type": "code",
   "execution_count": 1,
   "metadata": {},
   "outputs": [
    {
     "data": {
      "text/html": [
       "<style scoped>\n",
       "  .ansiout {\n",
       "    display: block;\n",
       "    unicode-bidi: embed;\n",
       "    white-space: pre-wrap;\n",
       "    word-wrap: break-word;\n",
       "    word-break: break-all;\n",
       "    font-family: \"Source Code Pro\", \"Menlo\", monospace;;\n",
       "    font-size: 13px;\n",
       "    color: #555;\n",
       "    margin-left: 4px;\n",
       "    line-height: 19px;\n",
       "  }\n",
       "</style>\n",
       "<div class=\"ansiout\"></div>"
      ]
     },
     "metadata": {},
     "output_type": "display_data"
    }
   ],
   "source": [
    "#I have referenced the below links for some of the code. It is a web page containing spark documentation\n",
    "# https://spark.apache.org/docs/2.4.5/ml-features.html"
   ]
  },
  {
   "cell_type": "code",
   "execution_count": 2,
   "metadata": {},
   "outputs": [
    {
     "data": {
      "text/html": [
       "<style scoped>\n",
       "  .ansiout {\n",
       "    display: block;\n",
       "    unicode-bidi: embed;\n",
       "    white-space: pre-wrap;\n",
       "    word-wrap: break-word;\n",
       "    word-break: break-all;\n",
       "    font-family: \"Source Code Pro\", \"Menlo\", monospace;;\n",
       "    font-size: 13px;\n",
       "    color: #555;\n",
       "    margin-left: 4px;\n",
       "    line-height: 19px;\n",
       "  }\n",
       "</style>\n",
       "<div class=\"ansiout\"></div>"
      ]
     },
     "metadata": {},
     "output_type": "display_data"
    }
   ],
   "source": [
    "from pyspark.sql import SparkSession, Row\n",
    "import numpy as np\n",
    "from pyspark.ml.feature import MinHashLSH\n",
    "from pyspark.ml.linalg import Vectors\n",
    "from pyspark.ml.feature import CountVectorizer\n",
    "from pyspark.sql.functions import col, udf\n",
    "from pyspark.ml.feature import Tokenizer,RegexTokenizer"
   ]
  },
  {
   "cell_type": "code",
   "execution_count": 3,
   "metadata": {},
   "outputs": [
    {
     "data": {
      "text/html": [
       "<style scoped>\n",
       "  .ansiout {\n",
       "    display: block;\n",
       "    unicode-bidi: embed;\n",
       "    white-space: pre-wrap;\n",
       "    word-wrap: break-word;\n",
       "    word-break: break-all;\n",
       "    font-family: \"Source Code Pro\", \"Menlo\", monospace;;\n",
       "    font-size: 13px;\n",
       "    color: #555;\n",
       "    margin-left: 4px;\n",
       "    line-height: 19px;\n",
       "  }\n",
       "</style>\n",
       "<div class=\"ansiout\"></div>"
      ]
     },
     "metadata": {},
     "output_type": "display_data"
    }
   ],
   "source": [
    "from pyspark.sql.functions import isnan, when, count, col"
   ]
  },
  {
   "cell_type": "code",
   "execution_count": 4,
   "metadata": {},
   "outputs": [
    {
     "data": {
      "text/html": [
       "\n",
       "            <div>\n",
       "                <p><b>SparkSession - hive</b></p>\n",
       "                \n",
       "        <div>\n",
       "            <p><b>SparkContext</b></p>\n",
       "\n",
       "            <p><a href=\"http://10.172.235.43:47201\">Spark UI</a></p>\n",
       "\n",
       "            <dl>\n",
       "              <dt>Version</dt>\n",
       "                <dd><code>v2.4.5</code></dd>\n",
       "              <dt>Master</dt>\n",
       "                <dd><code>local[8]</code></dd>\n",
       "              <dt>AppName</dt>\n",
       "                <dd><code>Databricks Shell</code></dd>\n",
       "            </dl>\n",
       "        </div>\n",
       "        \n",
       "            </div>\n",
       "        "
      ]
     },
     "metadata": {},
     "output_type": "display_data"
    }
   ],
   "source": [
    "spark"
   ]
  },
  {
   "cell_type": "code",
   "execution_count": 5,
   "metadata": {},
   "outputs": [
    {
     "data": {
      "text/html": [
       "<style scoped>\n",
       "  .ansiout {\n",
       "    display: block;\n",
       "    unicode-bidi: embed;\n",
       "    white-space: pre-wrap;\n",
       "    word-wrap: break-word;\n",
       "    word-break: break-all;\n",
       "    font-family: \"Source Code Pro\", \"Menlo\", monospace;;\n",
       "    font-size: 13px;\n",
       "    color: #555;\n",
       "    margin-left: 4px;\n",
       "    line-height: 19px;\n",
       "  }\n",
       "</style>\n",
       "<div class=\"ansiout\"></div>"
      ]
     },
     "metadata": {},
     "output_type": "display_data"
    }
   ],
   "source": [
    "sc = spark.sparkContext"
   ]
  },
  {
   "cell_type": "code",
   "execution_count": 6,
   "metadata": {},
   "outputs": [
    {
     "data": {
      "text/html": [
       "<style scoped>\n",
       "  .ansiout {\n",
       "    display: block;\n",
       "    unicode-bidi: embed;\n",
       "    white-space: pre-wrap;\n",
       "    word-wrap: break-word;\n",
       "    word-break: break-all;\n",
       "    font-family: \"Source Code Pro\", \"Menlo\", monospace;;\n",
       "    font-size: 13px;\n",
       "    color: #555;\n",
       "    margin-left: 4px;\n",
       "    line-height: 19px;\n",
       "  }\n",
       "</style>\n",
       "<div class=\"ansiout\"></div>"
      ]
     },
     "metadata": {},
     "output_type": "display_data"
    }
   ],
   "source": [
    "#cookbook text files\n",
    "cb_txt = sc.wholeTextFiles('dbfs:/FileStore/tables/*.txt')"
   ]
  },
  {
   "cell_type": "code",
   "execution_count": 7,
   "metadata": {},
   "outputs": [
    {
     "data": {
      "text/html": [
       "<style scoped>\n",
       "  .ansiout {\n",
       "    display: block;\n",
       "    unicode-bidi: embed;\n",
       "    white-space: pre-wrap;\n",
       "    word-wrap: break-word;\n",
       "    word-break: break-all;\n",
       "    font-family: \"Source Code Pro\", \"Menlo\", monospace;;\n",
       "    font-size: 13px;\n",
       "    color: #555;\n",
       "    margin-left: 4px;\n",
       "    line-height: 19px;\n",
       "  }\n",
       "</style>\n",
       "<div class=\"ansiout\">Out[62]: [(&#39;dbfs:/FileStore/tables/amem.txt&#39;,\n",
       "  &#39; \\n \\n\\n \\n  \\n\\n \\n \\n \\n\\n\\n The American Matron: Or, Practical and Scientific Cookery. \\n\\n\\n By a Housekeeper. \\n\\n\\n Boston: J. Munroe &amp;amp; Co., 1851 \\n\\n [Page images for  The American Matron  were produced before MSU began the &#34;Feeding America&#34; digitization project. This title is not formally part of the project and will not be transcribed.] \\n\\n \\n\\n\\n\\n \\n\\n  \\n\\n\\n \\n\\n&#39;),\n",
       " (&#39;dbfs:/FileStore/tables/amwh.txt&#39;,\n",
       "  &#39; \\r\\n \\r\\n \\r\\n  The American Woman\\&#39;s Home: or, Principles of Domestic Science; being a Guide to the Formation and Maintenance of Economical, Healthful, Beautiful, and Christian Homes.  Beecher, Catharine Esther  Stowe, Harriet Beecher  Home economics.  Introduction. The Christian Family. A Christian House. A Healthful Home. Scientific Domestic Ventilation. Stoves, Furnaces, and Chimneys. Home Decoration. The Care of Health. Domestic Exercise. Healthful Food. Healthful Drinks. Cleanliness. Clothing. Good Cooking. Early Rising. Domestic Manners. Good Temper in the Housekeeper. Habits of System and Order. Giving in Charity. Economy of Time and Expenses. Health of Mind. The Care of Infants. The Management of Young Children. Domestic Amusements and Social Duties. Care of the Aged. The Care of Servants. Care of the Sick. Accidents and Antidotes. Sewing, Cutting, and Mending. Fires and Lights. The Care of Rooms. The Care of Yards and Gardens. The Propagation of Plants. The Cultivation of Fruit. The Care of Domestic Animals. Earth-Closets. Warming and Ventilation. Care of the Homeless, the Helpless, and the Vicious. The Christian Neighborhood. Appeal to American Women. Glossary of Words and References. Analytical Index.  New York, J. B. Ford and Company; Boston, H. A. Brown &amp;amp; Co.  Electronic edition created by Digital &amp;amp; Multimedia Center, Michigan State University Libraries, East Lansing, Michigan, 2002-2003.  Supplementary material by Jan Longone, Anne-Marie Rachman, Peter Berg, Yvonne Lockwood, and Val Berryman  1869  Text  xml-external-parsed-entity  gif  quicktime  http://digital.lib.msu.edu/cookbooks/americanwomanshome/amwh.xml--&amp;gt;  OCLC 7875017  en  Digitized as part of &#34;Feeding America: The Historic American Cookbook Project.&#34; Michigan State University Libraries, East Lansing, Michigan, 2002-2003. http://digital.lib.msu.edu/cookbooks/  United States  Nineteenth century  The book digitized here was published in the United States before 1923 and is in the public domain according to U.S. copyright law. The digital version and supplementary materials are made available for all educational uses.  \\r\\n \\r\\n    \\r\\n          \\r\\n     A scene depicting a family reading together in a library. A woman sits at a table with a young girl on her lap, holding a large book for the girl to read, while a man and a young boy look on from beside and behind her, respectively. An older man sitting in a chair further off has also closed the book in his lap and is watching the scene. A second young girl is sitting on the floor in the foreground, holding a doll and looking intently at some toys that are scattered on the floor at her feet.   \\r\\n    THE   Two young boys stand near a woman in a rocking chair, who is holding a baby on her lap. One of the boys is holding out a kitten to the baby, who is stretching out her hand toward it. An adult cat standing at the woman\\&#39;s feet looks up at the scene curiously.   AMERICAN WOMAN\\&#39;S   An illustration of a beautiful home in the countryside, with a small path leading up to the front door. A man and a woman stand on the path, looking at the house; another couple are standing on the lawn some distance from the house, gazing out over a small river that flows behind the house.   HOME  BY CATHARINE BEECHER  AND HARRIET BEECHER STOWE   An illustration of two women and a young girl in a garden. One of the women is holding a tiny parasol, while the other stoops to pick some flowers. The young girl is holding up a basket full of already picked flowers.   NEW YORK J. B. FORD &amp;amp; CO. 1869.  \\r\\n    \\r\\n    THE  AMERICAN WOMAN\\&#39;S HOME:  OR,  PRINCIPLES OF DOMESTIC SCIENCE;  BEING  A GUIDE TO THE FORMATION AND MAINTENANCE OF ECONOMICAL, HEALTHFUL, BEAUTIFUL, AND CHRISTIAN HOMES.  BY CATHARINE E. BEECHER AND HARRIET BEECHER STOWE.   The seal of the J. B. Ford and Company publishing house.   NEW-YORK: J. B. FORD AND COMPANY. BOSTON: H. A. BROWN &amp;amp; CO. 1869.  \\r\\n    Entered according to Act of Congress, in the year 1869, by J. B. FORD &amp;amp; CO., in the Clerk\\&#39;s Office of the District Court of the United States for the Southern District of New York.  UNIVERSITY PRESS: WELCH, BIGELOW, &amp;amp; CO., CAMBRIDGE.  \\r\\n    TO  THE WOMEN OF AMERICA,  IN WHOSE HANDS REST THE REAL DESTINIES OF THE REPUBIC, AS MOULDED BY THE EARLY TRAINING AND PRESERVED AMID THE MATURER INFLUENCES OF HOME, THIS VOLUME IS  AFFECTIONATELY INSCRIBED.  \\r\\n    \\r\\n    TABLE OF CONTENTS.   INTRODUCTION.  THE chief cause of woman\\&#39;s disabilities and sufferings, that women are not trained, as men are, for their peculiar duties--Aim of this volume to elevate the honor and remuneration of domestic employment--Woman\\&#39;s duties, and her utter lack of training for them--Qualifications of the writers of this volume to teach the matters proposed--Experience and study of woman\\&#39;s work--Conviction of the dignity and importance of it--The great social and moral power in her keeping--The principles and teachings of Jesus Christ the true basis of woman\\&#39;s rights and duties.-- Pages 13-16.   I.  THE CHRISTIAN FAMILY.  Object of the Family State--Duty of the elder and stronger to raise the younger, weaker, and more ignorant to an equality of advantages--Discipline of the family--The example of Christ one of self-sacrifice as man\\&#39;s elder brother--His assumption of a low estate--His manual labor--His trade--Woman the chief minister of the family estate--Man the out-door laborer and provider--Labor and self-denial in the mutual relations of home-life, honorable, healthful, economical, enjoyable, and Christian.-- Pages 17-22.   II.  A CHRISTIAN HOUSE.  True wisdom in building a home--Necessity of economizing time, labor, and expense, by the close packing of conveniences--Plan of a model cottage--Proportions--Piazzas--Entry--Stairs and landings--Large room--Movable Screen--Convenient bedsteads--A good mattress--A cheap and convenient ottoman--Kitchen and stove-room--The stove-room and its arrangements--Second or attic story--Closets, corner dressing-tables, windows, balconies, water and earth-closets, shoe-bag, piece-bag--Basement, closets, refrigerator, washtubs, etc.--Laundry--General woodwork--Conservatories--Average estimate of cost.-- Pages 23-42.     III.  A HEALTHFUL HOME.  Household murder--Poisoning and starvation the inevitable result of bad air in public halls and private homes--Good air as needful as good food--Structure and operations of the lungs and their capillaries and air-cells--How people in a confined room will deprive the air of oxygen and overload it with refuse carbonic acid--Starvation of the living body deprived of oxygen--The skin and its twenty-eight miles of perspiratory tubes--Reciprocal action of plants and animals--Historical examples of foul-air poisoning--Outward effects of habitual breathing of bad air--Quotations from scientific authorities.-- Pages 43-58.   IV.  SCIENTIFIC DOMESTIC VENTILATION.  An open fireplace secures due ventilation--Evils of substituting air-tright stoves and furnace heating--Tendency of warm air to rise and of cool air to sink-- Ventilation of mines--Ignorance of architects--Poor ventilation in most houses--Mode of ventilating laboratories--Creation of a current of warm air in a flue open at top and bottom of the room--Flue to be built into chimney: method of utilizing it.-- Pages 59-65.   V.  STOVES, FURNACES, AND CHIMNEYS.  The general properties of heat, conduction, convection, radiation, reflection--Cooking done by radiation the simplest but most wasteful mode: by convection (as in stoves and furnaces) the cheapest--The range--The model cooking-stove--Interior arrangements and principles--Contrivances for economizing heat, labor, time, fuel, trouble, and expense--Its durability, simplicity, etc.--Chimneys: why they smoke and how to cure them--Furnaces: the dryness of their heat--Necessity of moisture in warm air--How to obtain and regulate it.-- Pages 66-83.   VI.  HOME DECORATION.  Significance of beauty in making home attractive and useful in education--Exemplification of economical and tasteful furniture--The carpet, lounge, lambrequins, curtains, ottomans, easy-chair, centre-table--Money left for pictures--Chromos--Pretty frames--Engravings--Statuettes--Educatory influence of works of art--Natural adornments--Materials in the woods and fields--Parlor-gardens--Hanging baskets--Fernshields--Ivy, its beauty and tractableness--Window, with flowers, vines,   and pretty plants--Rustic stand for flowers--Ward\\&#39;s case--How to make it economically--Bowls and vases of rustic work for growing plants--Ferns, how and when to gather them--General remarks.-- Pages 84-103.   VII.  THE CARE OF HEALTH.  Importance of some knowledge of the body and its needs--Fearful responsibility of entering upon domestic duties in ignorance--The fundamental vital principle--Cell-life--Wonders of the microscope--Cell-multiplication--Constant interplay of decay and growth necessary to life--The red and white cells of the blood--Secreting and converting power--The nervous system--The brain and the nerves--Structural arrangement and functions--The ganglionic system--The nervous fluid--Necessity of properly apportioned exercise to nerves of sensaiton and of motion--Evils of excessive or insufficient exercise--Equal development of the whole.-- Pages 104-112.   VIII.  DOMESTIC EXERCISE.  Connection of muscles and nerves--Microscopic cellular muscular fibre--Its mode of action--Dependence on the nerves of voluntary and involuntary motion--How exercise of muscles quickens circulation of the blood which maintains all the processes of life--Dependence of equilibrium upon proper muscular activity--Importance of securing exercise that will interest the mind.-- Pages 113-118.   IX.  HEALTHFUL FOOD.  Apportionment of elements in food: carbon, nitrogen, phosphorus, calcium, iron, silicon, etc.--Large proportion of water in the human body--Dr. Holmes on the interchange of death and life--Constituent parts of a kernel of wheat--Comparison of different kinds of food--General directions for diet--Hunger the proper guide and guard of appetite--Evils of over-eating--Structure and operations of the stomach--Times and quantity for eating--Stimulating and nourishing food--Americans eat too much meat--Wholesome effects of Lenten fasting- Matter and manner of eating--Causes of debilitation from misuse of food.-- Pages 119-137.     X.  HEALTHFUL DRINKS.  Stimulating drinks not necessary--Their immediate evil effects upon the human body and tendency to grow into habitual desires--The arguments for and against stimulus--Microscopic revelations of the effects of alcohol on the cellular tissue of the brain--Opinions of high scientific authorities against its use--No need of resorting to stimulants either for refreshment, nourishment, or pleasure--Tea and coffee an extensive cause of much nervous debility and suffering--Tend to wasteful use in the kitchen--Are seldom agreeable at first to children--Are dangerous to sensitive, nervous organizations, and should be at least regulated--Hot drinks unwholesome, debilitating, and destructive to teeth, throat, and stomach--Warm drinks agreeable and not unhealthful--Cold drinks not to be too freely used during meals--Drinking while eating always injurious to digestion.-- Pages 138-140.   XI.  CLEANLINESS.  Health and comfort depend on cleanliness--Scientific treatment of the skin, the most complicated organ of the body--Structure and arrangement of the skin, its layers, cells, nerves, capillaries, absorbents, oil-tubes, perspiration-tubes, etc.--The mucous membrane--Phlegm--The secreting organs--The liver, kidney, pancreas, salivary and lachrymal glands--Sympathetic connection of all the bodily organs--Intimate connection of the skin with all the other organs--Proper mode of treating the skin--Experiment showing happy effects of good treatment.-- Pages 150-157.   XII.  CLOTHING.  Fashion attacks the very foundation of the body, the bones--Bones composed of animal and mineral elements--General construction and arrangement--Health of bones dependent on nourishment and exercise of body--Spine--Distortions produced by tight dressing--Pressure of interior organs upon each other and upon the bones--Displacement of stomach, diaphragm, heart, intestines, and pelvic or lower organs--Women liable to peculiar distresses--A well-fitted jacket to replace stiff corsets, supporting the bust above and the under skirts below--Dressing of young children--Safe for a healthy child to wear as little clothing as will make it thoroughly comfortable--Nature the guide--The very young and the very old need the most clothing.-- Pages 158-166.     VII.  GOOD COOKING.  Bad cooking prevalent in America--Abundance of excellent material--General management of food here very wasteful and extravagant--Five great departments of Cookery-- Bread --What is hould be, how to spoil and how to make it--Different modes of aeration--Baking--Evils of hot bread.-- Butter --Contrast between the butter of America and of European countries--How to make good butter.-- Meat --Generally used too newly killed--Lack of nicety in butcher\\&#39;s work--Economy of French butchery, carving, and trimming--Modes of cooking meats--The frying-pan--True way of using it--The French art of making delicious soups and stews-- Vegetables --Their number and variety in America--The potato--How to cook it, a simple yet difficult operation--Roasted, boiled, fried.-- Tea --Warm table drinks generally--Coffee--Tea--Chocolate.-- Confectionary --Ornamental cookery--Pastry, ices, jellies.-- Pages 167-190.   XIV.  EARLY RISING.  A virtue peculiarly American and democratic--In aristocratic countires labor considered degrading--The hours of sunlight generally devoted to labor by the working classes and to sleep by the indolent and wealthy--Sunlight necessary to health and growth whether of vegetables or animals--Particularly needful for the sick--Substitution of artificial light and heat, by night, a great waste of money--Eight hours\\&#39; sleep enough--Excessive sleep debilitating--Early rising necessary to a well-regulated family, to the amount of work to be done to the community, to schools, and to all classes in American society.-- Pages 191-196.   XV.  DOMESTIC MANNERS.  Good manners the expression of benevolence in personal intercourse--Serious defects in manners of the Americans--Causes of abrupt manners to be found in American life--Want of clear discrimination between men--Necessity for distinctions of superiority: and subordination--Importance that young mothers should seriously endeavor to remedy this defect, while educating their children--Democratic principle of equal rights to be applied, not to our own interests but to those of others--The same courtesy to be extended to all classes--Necessary distinctions arising from mutual relations to be observed--The strong to defer to the weak--Precedence yielded by men to women in America--Good manners must be cultivated in early life--Mutual relations of husband and wife--Parents and children--The rearing of children to courtesy--De Tocqueville on American manners.-- Pages 197-211.     XVI.  GOOD TEMPER IN THE HOUSEKEEPER.  Easier for a household under the guidance of an equable temper in the mistress--Dissatisfied looks and sharp tones destroy the comfort of system, neatness, and economy--Considerations to aid the housekeeper--Importance and dignity of her duties--Difficulties to be overcome--Good policy to calculate beforehand upon the derangement of well-arranged plans--Object of housekeeping, the comfort and well-being of the family--The end should not be sacrificed to secure the means--Possible to refrain from angry tones--Mild speech most effective--Exemplification--Allowances to be made for servants and children--Power of religion to impart dignity and importance to the ordinary and petty details of domestic life.-- Pages 212-219.   XVII.  HABITS OF SYSTEM AND ORDER.  Relative importance and difficulty of the duties a woman is called to perform--Her duties not trivial--A habit of system and order necessary--Right apportionment of time--General principles--Christianity to be the foundation--Intellectual and social interests to be preferred to gratification of taste or appetite--Neglect of health a sin in the sight of God--Regular season of rest appointed by the Creator--Divisions of time--Systematic arrangement of house articles and other conveniences--Regular employment for each member of a family--Children--Family work--Forming habits of system--Early rising a very great aid--Due apportionment of time to the several duties.-- Pages 220-232.   XVIII.  GIVING IN CHARITY.  No point of duty more difficult to fix by rule than charity--First consideration--Object for which we are placed in this world--Self-denying Benevolence.--Second consideration--Natural principles not to be exterminated, but regulated and controlled.--Third consideration--Superfluities sometimes proper, and sometimes not.--Fourth consideration--No rule of duty right for one and not for all--The opposite of this principle tested--Some use of superfluities necessary--Plan for keeping an account of necessities and superfluities--Untoward results of our actions do not always prove that we deserve blame--General principles to guide in deciding upon objects of charity--Who are our neighbors--The most in need to be first relieved--Not much need of charity for physical wants in this country--Associated charities--Indiscriminate charity--Impropriety of judging the charities of others.-- Pages 233-246.     XIX.  ECONOMY OF TIME AND EXPENSES.  Economy, value, and right apportionment of time--Laws appointed by God for the Jews--Christianity removes the restrictions laid on the Jews, but demands all our time to be devoted to our own best interests and the good of our fellow-men--Enjoyment connected with every duty--Various modes of economizing time--System and order--Uniting several objects in one employment--Odd intervalst of time--Aiding others in economizing time--Economy in expenses--Contradictory notions--General principles in which all agree--Knowledge of income and expenses--Evils of want of system and forethought--Young ladies should early learn to be systematic and economical.-- Pages 247-254.   XX.  HEALTH OF MIND.  Intimate connection between the body and mind--Brain excited by improper stimulants taken into the stomach--Mental faculties then affected--Causes of mental disease--Want of oxygenized blood--Fresh air absolutely necessary--Excessive exercise of the intellect or feelings--Such attention to religion as prevents the performance of other duties, wrong--Unusual precocity in children usually the result of a diseased brain--Idiocy often the result, or the precocious child sinks below the average of mankind--This evil yet prevalent in colleges and other seminaries--A medical man necessary in every seminary--Some pupils always needing restraint in regard to study--A third cause of mental disease, the want of appropriate exercise of the various faculties of the mind--Extract from Dr. Combe--Beneficial results of active intellectual employments--Indications of a diseased mind.-- Pages 255-262.   XXI.  THE CARE OF INFANTS.  Herbert Spencer on the treatment of offspring--Absurdity of undertaking to rear children without any knowledge of how to do it--Foolish management of parents generally the cause of evils ascribed to Providence--Errors of management during the first two years--Food of child and of mother--Warning as to use of too much medicine--Fresh air--Care of the skin--Dress--Sleep--Bathing--Change of air--Habits--Dangers of the teething period--Constipation--Diarrhea--Teething--How to relieve its dangers--Feverishness--Use of water.-- Pages 263-274.     XXII.  THE MANAGEMENT OF YOUNG CHILDREN.  Physical education of children--Animal diet to be avoided for the very young--Result of treatment at Albany Orphan Asylum--Good ventilation of nurseries and schools--Moral training to consist in forming  habits  of submission, self-denial, and benevolence--General suggestions--Extremes of sternness and laxity to be avoided--Appreciation of childish desires and feelings--Sympathy--Partaking in games and employments--Inculcation of principles preferable to multiplication of commands--Rewards rather than penalties--Severe tones of voice--Children to be kept happy--Sensitive children--Self-denial--Deceit and honesty--Immodesty and delicacy--Dreadful penalties consequent upon youthful impurities--Religious training.-- Pages 275-286.   XXIII.  DOMESTIC AMUSEMENTS AND SOCIAL DUTIES.  Children need more amusement than older persons--Its object, to afford rest and recreation to the mind and body--Example of Christ--No amusements to be introduced that will tempt the weak or over-excite the young--Puritan customs--Work followed by play--Dramatic exercises, dancing, and festivity wholesomely enjoyed--The nine o\\&#39;clock bell--The drama and the dance--Card-playing--Novel-reading--Taste for solid reading--Cultivation of fruits and flowers--Music--Collecting of shells, plants, and minerals--Games--Exercise of mechanical skill for boys--Sewing, cutting, and fitting--General suggestions--Social and domestic duties--Family attachments--Hospitality.-- Pages 287-302.   XXIV.  CARE OF THE AGED.  Preservation of the aged, designed to give opportunity for self-denial and loving care--Patience, sympathy, and labor for them to be regarded as priveleges in a family--The young should respect and minister unto the aged--Treating them as valued members of the family--Engaging them in domestic games and sports--Reading aloud--Courteous attention to their opinions--Assistance in retarding decay of faculties by helping them to exercise--Keeping up interest of the infirm in domestic affairs--Great care to preserve animal heat--Ingratitude to the aged, its baseness--Chinese regard for old age.-- Pages 303-306.     XXV.  THE CARE OF SERVANTS.  Origin of the Yankee term &#34;help&#34;--Days of good health and intelligent house-keeping--Growth of wealth tends to multiply hired service--American young women should be trained in housekeeping for the guidance of ignorant and shiftless servants--Difficulty of teaching servants--Reaction of society in favor of women\\&#39;s intellectuality, in danger of causing a new reaction--American girls should do more work--Social estimate of domestic service--Dearth of intelligent domestic help--Proper mode of treating servants--General rules and special suggestions--Hints from experience--Woman\\&#39;s first &#34;right,&#34; liberty to do what she can--Domestic duties not to be neglected for operations in other spheres--Servants to be treated with respect--Errors of heartless and of too indulgent employers--Mistresses of American families necessarily missionaires and instructors.-- Pages 307-334.   XXVI.  CARE OF THE SICK.  Prominence given to care and cure of the sick by our Saviour--Every woman should know what to do in the case of illness--Simple remedies best--Fasting and perspiration--Evils of constipation--Modes of relieving it--Remedies for colds--Unwise to tempt the appetite of the sick--Suggestion for the sick-room--Ventilation--Needful articles--The room, bed, and person of the patient to be kept neat--Care to preserve animal warmth--The sick, the delicate, the aged--Food always to be carefully prepared and neatly served--Little modes of refreshement--Implicit obedience to the physician--Care in purchasing medicines--Exhibition of cheerfulness, gentleness, and sympathy--Knowledge and experience of mind--Lack of competent nurses--Failings of nurses--Sensitiveness of the sick--&#34;Sisters of Charity,&#34; the reason why they are such excellent nurses--Illness in the family a providential opportunity of training children to love and usefulness.-- Pages 335-347.   XXVII.  ACCIDENTS AND ANTIDOTES.  Mode of treating cuts, wounds, severed arteries--Bad bruises to be bathed in hot water--Sprains treated with hot fomentation and rest--Burns cured by creosote, wood-soot, or flour--Drowning; most approved mode of treatment--Poisons and their antidotes--Soda, saleratus, potash, sulphuric or oxalic acid, lime or baryta, iodine or iodide of potassium, prussic acid, antimony, arsenic, lead, nitrate of silver, phosphorous, alcohol, tobacco, opium, strychnia--Bleeding at the lungs, stomach, throat, nose--Accidents from lightning--Stupefaction, from coal-gas or foul air--Fire--Fainting--Coolness and presence of mind.-- Pages 348-352.     XXVIII.  SEWING, CUTTING, AND MENDING.  Different kinds of Stitch--Overstitch--Hems--Tucks--Fells--Gores--Buttonholes--Whipping--Gathering--Darning--Basting--Sewing--Work-baskets--To make a frock--Patterns--Fitting--Lining--Think Silks--Figured and plain silks--Plaids--Stripes--Linen and Cotton--How to buy--Shirts--Chemises--Night-gowns--Under-skirts--Mending--Silk dresses--Broadcloth--Hose--Shoes, etc.--Bedding--Mattresses--Sheeting--Bed-linen.-- Pages 353-359.   XXIX.  FIRES AND LIGHTS.  Woodfires--Shallow fireplaces--Utensils--The best wood for fires--How to measure a load--Splitting and piling--Ashes--Cleaning up--Stoves and grates--Ventilation--Moisture--Stove-pipe thimbles--Anthracite coal--Bituminous coal--Care to be used in erecting stoves and pipes--Lights--Poor economy to use bad light--Gas--Oil--Kerosene--Points to be considered: Steadiness, Color, Heat-- Argand burners--Dangers of kerosene--Tests of its safety and light-giving qualities--Care of lamps--Utensils needed--Shades--Night-lamps--How to make candles--Moulded--Dipped--Rush-lights.-- Pages 360-366.   XXX.  THE CARE OF ROOMS.  Parlors--Cleansing--Furniture--Pictures--Hearths and jambs--Stians in marble--Carpets--Chambers and bedrooms--Ventilation--How to make a bed properly--Servants should have single beds and comfortable rooms--Kitchens--Light--Air--Cleanliness--How to make a cheap oil-cloth--The sink--Washing dishes--Kitchen furniture--Crockery--Ironware--Tinware--Basketware--Other articles--Closets--Cellars--Dryness and cleanliness imperative necessities--Store-rooms--Modes of destroying insects and vermin.-- Pages 367-378.   XXXI.  THE CARE OF YARDS AND GARDENS.  Preparation of soil for pot-plants--For hot-beds--For planting flower seeds--For garden seeds--Transplanting--To re-pot house plants--The laying out of yards and gardens--Transplanting trees--The care of house plants.-- Pages 379-383.     XXXII.  THE PROPAGATION OF PLANTS.  Propagation of bulbous roots--Propagation of plants by shoots--By layers--Budding and grafting--The outer and inner bark--Detailed description of operations--Seed-fruit--Stone-fruit--Rose bushes--Ingrafting--Stock grafting--Pruning--Perpendicular shoots to be taken out, horizontal of curved shoots reatined--All fruit-buds coming out after midsummer to be rubbed off--Suckers--Pruning to be done after sap is in circulation--Thinning--Leaves to be removed when they shade fruit near maturity--Fruit to be removed when too abundant for good quality--How to judge.-- Pages 384-388.   XXXIII.  THE CULTIVATION OF FRUIT.  A pleasant, easy, and profitable occupation--Soil for a nursery--Planting of seeds--Transplanting--Pruning--Filberts--Figs--Currants--Gooseberries--Raspberries--Strawberries--Grapes--Modes of preserving, fruit trees--The yellows--Moths--Caterpillars--Br&amp;#251;lure--Curculio--Canker-worm.-- Pages 389-392.   XXXIV.  THE CARE OF DOMESTIC ANIMALS.  Interesting association of animals with man, from childhood to age--Domestic animals apt to catch the spirit of their masters--Important necessities--Good feeding--Shelter--Cleanliness--Destruction of parasitic vermin--Salt and water--Light--Exercise--Rule for breeding--Care of Horses: feeding, grooming, special treatment--Cows: stabling, feed, calving, milking, tethering--Swine: naturally cleanly, breeding, fresh water, charcoal, feeding--Sheep: winter treatment--Diet--Sorting--Use of sheep in clearing land--Pasture--Hedges and fences--Poultry--Turkeys--Geese--Ducks--Fowls--Dairy work generally--Bees--Care of domestic animals, occupation for women.-- Pages 393-402.   XXXV.  EARTH-CLOSETS.  Deodorization and preservation of excrementious matter--The earth-closet--Waring\\&#39;s pamphlet--The agricultural argument--Necessity of returning to the soil the elements taken from it--Earth-closet based on power of clay and inorganic matter to absorb and retain odors and fertilizing matter--Its construction--Mode of use--The ordinary privy--The commode or portable house-privy--Especial directions: things to be observed--Repeated use of earth--Other advantages--Sick-rooms--House-labor--Cleanliness--Economy.-- Pages 403-418.     XXXVI.  WARMING AND VENTILATION.  Open fireplace nearest to natural mode by which earth is warmed and ventilated--Origin of diseases--Necessity of pure air to life--Statistics--General principles of ventilation--Mode of Lewis Leeds--Ventilation of buildings planned in this work--The pure-aire conductor--The foul-air exhausting-flue--Stoves--Detailed arrangements--Warming--Economy of time, labor, and expense in the cottage plan--After all schemes, the open fireplace the best.-- Pages 419-432.   XXXVII.  CARE OF THE HOMELESS, THE HELPLESS, AND THE VICIOUS.  Recommendations of the Massachusetts Board of State Charities--Pauper and criminal classes should be scattered in Christian homes instead of gathered into large institutions--Facts recently published concerning the poor of New-York--Sufferings of the poor, deterioration of the rich--Christian principles of benevolence--Plan for a Christian city hosue--Suggestions to wealthy and unoccupied women--Roman Catholic works--Protestant duties--The highest mission of woman.-- Pages 433-452.   XXXVIII.  THE CHRISTIAN NEIGHBORHOOD.  Spirit of Christian Missions--Present organizations under church direction too mechanical--Christian family influence the true insturment of Gospel propagation--Practical suggestions for gathering a Christian family in neglected neighborhoods--Plan of church, school-house, and family-dwelling in one building--Mode of use for various purposes--Nucleus and gathering of a family--Christian work for Christian women--Children--Orphans--Servants--Neglected ones--Household training--Roman Catholic Nuns--The South--The West--The neglected interior of older States--Power of such examples--Rapid spread of their influence--Anticipation of the glorious consummation to be hoped for--Prophecy in the Scriptures--Cowper\\&#39;s noble vision of millenial glory.-- Pages 453-461.    APPEAL TO AMERICAN WOMEN. -- Pages 463-470.    GLOSSARY OF WORDS AND REFERENCES. -- Pages \\r\\n473-489.    ANALYTICAL INDEX. -- Page 491-500.    \\r\\n    THE AMERICAN WOMAN\\&#39;S HOME.  INTRODUCTION.  THE authors of this volume, while they sympathize with every honest effort to relieve the disabilities and sufferings of their sex, are confident that the chief cause of these evils is the fact that the honor and duties of the family state are not duly appreciated, that women are not trained for these duties as men are trained for their trades and professions, and that, as the consequence, family labor is poorly done, poorly paid, and regarded as menial and disgraceful.  To be the nurse of young children, a cook, or a house-maid, is regarded as the lowest and last resort of poverty, and one which no woman of culture and position can assume without loss of caste and respectability.  It is the aim of this volume to elevate both the honor and the remuneration of all the employments that sustain the many difficult and sacred duties of the family state, and thus to render each department of woman\\&#39;s true profession as much desired and respected as are the most honored professions of men.  When the other sex are to be instructed in law, medicine, or divinity, they are favored with numerous institutions richly endowed, with teachers of the highest talents and acquirements, with extensive libraries, and abundant and costly apparatus. With such advantages they devote   nearly ten of the best years of life to preparing themselves for their profession; and to secure the public from unqualified members of these professions, none can enter them until examined by a competent body, who certify to their due preparation for their duties.  Woman\\&#39;s profession embraces the care and nursing of the body in the critical periods of infancy and sickness, the training of the human mind in the most impressible period of childhood, the instruction and control of servants, and most of the government and economies of the family state. These duties of woman are as sacred and important as any ordained to man; and yet no such advantages for preparation have been accorded to her, nor is there any qualified body to certify the public that a woman is duly prepared to give proper instruction in her profession.  This unfortunate want, and also the questions frequently asked concerning the domestic qualifications of both the authors of this work, who have formerly written upon such topics, make it needful to give some account of the advantages they have enjoyed in preparation for the important office assumed as teachers of woman\\&#39;s domestic duties.  The sister whose name is subscribed is the eldest of nine children by her own mother, and of four by her step-mother; and having a natural love for children, she found it a pleasure as well as a duty to aid in the care of infancy and childhood. At sixteen, she was deprived of a mother, who was remarkable not only for intelligence and culture, but for a natural taste and skill in domestic handicraft. Her place was awhile filled by an aunt remarkable for her habits of neatness and order, and especially for her economy. She was, in the course of time, replaced by a step-mother, who had been accustomed to a superior style of housekeeping, and was an expert in all departments of domestic administration.  Under these successive housekeepers, the writer learned not only to perform in the most approved manner all the   manual employments of domestic life, but to honor and enjoy these duties.  At twenty-three, she commenced the institution which ever since has flourished as &#34;The Hartford Female Seminary,&#34; where, at the age of twelve, the sister now united with her in the authorship of this work became her pupil, and, after a few years, her associate. The removal of the family to the West, and failure of health, ended a connection with the Hartford Seminary, and originated a similar one in Cincinnati, of which the younger authoress of this work was associate principal till her marriage.  At this time, the work on  Domestic Economy,  of which this volume may be called an enlarged edition, although a great portion of it is entirely new, embodying the latest results of science, was prepared by the writer as a part of the  Massachusetts School Library,  and has since been extensively introduced as a text-book into public schools and higher female seminaries. It was followed by its sequel,  The Domestic Receipt-Book,  widely circulated by the Harpers in every State of the Union.  These two works have been entirely remodeled, former topics rewritten, and many new ones introduced, so as to include all that is properly embraced in a complete Encyclopedia of Domestic Economy.  In addition to the opportunities mentioned, the elder sister, for many years, has been studying the causes and the remedies for the decay of constitution and loss of health so increasingly prevalent among American women, aiming to promote the establishment of  endowed  institutions, in which women shall be properly trained for their profession, as both housekeepers and health-keepers. What advantages have thus been received and the results thus obtained will appear in succeeding pages.  During the upward progress of the age, and the advance of a more enlightened Christianity, the writers of this volume have gained more elevated views of the true mission   of woman--of the dignity and importance of her distinctive duties, and of the true happiness which will be the reward of a right appreciation of this mission, and a proper performance of these duties.  There is at the present time an increasing agitation of the public mind, evolving many theories and some crude speculations as to woman\\&#39;s rights and duties. That there is a great social and moral power in her keeping, which is now seeking expression by organization, is manifest, and that resulting plans and efforts will involve some mistakes, some collisions, and some failures, all must expect.  But to intelligent, reflecting, and benevolent women--whose faith rests on the character and teachings of Jesus Christ--there are great principles revealed by Him, which in the end will secure the grand result which He taught and suffered to achieve. It is hoped that in the following pages these principles will be so exhibited and illustrated as to aid in securing those rights and advantages which Christ\\&#39;s religion aims to provide for all, and especially for the most weak and defenseless of His children.  CATHARINE E. BEECHER.  \\r\\n \\r\\n \\r\\n     An illustration of a church seen through a gap in some old willow trees. The dirt path leading up to the church is bordered by a low decorative fence.   I.  THE CHRISTIAN FAMILY.  IT is the aim of this volume to elevate both the honor and the remuneration of all employments that sustain the many difficult and varied duties of the family state, and thus to render each department of woman\\&#39;s profession as much desired and respected as are the most honored professions of men.    What, then, is the end designed by the family state which Jesus Christ came into this world to secure?  It is to provide for the training of our race to the highest possible intelligence, virtue, and happiness, by means of the self-sacrificing labors of the wise and good, and this with chief reference to a future immortal existence.  The distinctive feature of the family is self-sacrificing labor of the stronger and wiser members to raise the weaker and more ignorant to equal advantages. The father undergoes toil and self-denial to provide a home, and then the mother becomes a self-sacrificing laborer to train its inmates. The useless, troublesome infant is served in the humblest offices; while both parents unite in training it to an equality with themselves in every advantage. Soon the older children become helpers to raise the younger to a level with their own. When any are sick, those who are well become self-sacrificing ministers. When the parents are old and useless, the children become their self-sacrificing servants.  Thus the discipline of the family state is one of daily self-devotion of the stronger and wiser to elevate and support the weaker members. Nothing could be more contrary to its first principles than for the older and more capable children to combine to secure to themselves the highest advantages, enforcing the drudgeries on the younger, at the sacrifice of their equal culture.  Jesus Christ came to teach the fatherhood of God and consequent brotherhood of man. He came as the &#34;first-born Son&#34; of God and the Elder Brother of man, to teach by example the self-sacrifice by which the great family of man is to be raised to equality of advantages as children of God. For this end, he &#34;humbled himself&#34; from the highest to the lowest place. He chose for his birthplace the most despised village; for his parents the lowest in rank; for his trade, to labor with his hands as a carpenter, being &#34;subject to his parents&#34; thirty years. And, what is very   significant, his trade was that which prepares the family home, as if he would teach that the great duty of man is labor--to provide for and train weak and ignorant creatures. Jesus Christ worked with his hands nearly thirty years, and preached less than three. And he taught that his kingdom is exactly opposite to that of the world, where all are striving for the highest positions. &#34;Whoso will be great shall be your minister, and whoso will be chiefest shall be servant of all.&#34;  The family state then, is the aptest earthly illustration of the heavenly kingdom, and in it woman is its chief minister. Her great mission is self-denial, in training its members to self-sacrificing labors for the ignorant and weak: if not her own children, then the neglected children of her Father in heaven. She is to rear all under her care to lay up treasures, not on earth, but in heaven. All the pleasures of this life end here; but those who train immortal minds are to reap the fruit of their labor through eternal ages.  To man is appointed the out-door labor--to till the earth, dig the mines, toil in the foundries, traverse the ocean, transport merchandise, labor in manufactories, construct houses, conduct civil, municipal, and state affairs, and all the heavy work, which, most of the day, excludes him from the comforts of a home. But the great stimulus to all these toils, implanted in the heart of every true man, is the desire for a home of his own, and the hopes of paternity. Every man who truly lives for immortality responds to the beatitude, &#34;Children are a heritage from the Lord: blessed is the man that hath his quiver full of them!&#34; The more a father and mother live under the influence of that &#34;immortality which Christ hath brought to light,&#34; the more is the blessedness of rearing a family understood and appreciated. Every child trained aright is to dwell forever in exalted bliss with those that gave it life and trained it for heaven.    The blessed privileges of the family state are not confined to those who rear children of their own. Any woman who can earn a livelihood, as every woman should be trained to do, can take a properly qualified female associate, and institute a family of her own, receiving to its heavenly influences the orphan, the sick, the homeless, and the sinful, and by motherly devotion train them to follow the self-denying example of Christ, in educating his earthly children for true happiness in this life and for his eternal home.  And such is the blessedness of aiding to sustain a truly Christian home, that no one comes so near the pattern of the All-perfect One as those who might hold what men call a higher place, and yet humble themselves to the lowest in order to aid in training the young, &#34;not as men-pleasers, but as servants to Christ, with good-will doing service as to the Lord, and not to men.&#34; Such are preparing for high places in the kingdom of heaven. &#34;Whosoever will be chiefest among you, let him be your servant.&#34;  It is often the case that the true humility of Christ is not understood. It was not in having a low opinion of his own character and claims, but it was in taking a low place in order to raise others to a higher. The worldling seeks to raise himself and family to an equality with others, or, if possible, a superiority to them. The true follower of Christ comes down in order to elevate others.  The maxims and institutions of this world have ever been antagonistic to the teachings and example of Jesus Christ. Men toil for wealth, honor, and power, not as means for raising others to an equality with themselves, but mainly for earthly, selfish advantages. Although the experience of this life shows that children brought up to labor have the fairest chance for a virtuous and prosperous life, and for hope of future eternal blessedness, yet it is the aim of most parents who can do so, to lay up wealth that their children need not labor with the hands as Christ did.   And although exhorted by our Lord not to lay up treasure on earth, but rather the imperishable riches which are gained in toiling to train the ignorant and reform the sinful, as yet a large portion of the professed followers of Christ, like his first disciples, are &#34;slow of heart to believe.&#34;  Not less have the sacred ministries of the family state been undervalued and warred upon in other directions; for example, the Romish Church has made celibacy a prime virtue, and given its highest honors to those who forsake the family state as ordained by God. Thus came great communities of monks and nuns, shut out from the love and labors of a Christian home; thus, also, came the monkish systems of education, collecting the young in great establishments away from the watch and care of parents, and the healthful and self-sacrificing labors of a home. Thus both religion and education have conspired to degrade the family state.  Still more have civil laws and social customs been opposed to the principles of Jesus Christ. It has ever been assumed that the learned, the rich, and the powerful are not to labor with the hands, as Christ did, and as Paul did when he would &#34;not eat any man\\&#39;s bread for naught, but wrought with labor, not because we have not power&#34; [to live without hand-work,] &#34;but to make ourselves an example.&#34; (2 Thess. 3.)  Instead of this, manual labor has been made dishonorable and unrefined by being forced on the ignorant and poor. Especially has the most important of all hand-labor, that which sustains the family, been thus disgraced; so that to nurse young children, and provide the food of a family by labor, is deemed the lowest of all positions in honor and profit, and the last resort of poverty. And so our Lord, who himself took the form of a servant, teaches, &#34;How hardly shall they that have riches enter the kingdom of heaven!&#34;--that kingdom in which all are toiling   to raise the weak, ignorant, and sinful to such equality with themselves as the children of a loving family enjoy. One mode in which riches have led to antagonism with the true end of the family state is in the style of living, by which the hand-labor, most important to health, comfort, and beauty, is confined to the most ignorant and neglected members of society, without any effort being made to raise them to equal advantages with the wise and cultivated.  And, the higher civilization has advanced, the mor- have children been trained to feel that to labor, as did Christ and Paul, is disgraceful, and to be made the portion of a degraded class. Children of the rich grow up with the feeling that servants are to work for them, and they themselves are not to work. To the minds of most children and servants, &#34;to be a lady,&#34; is almost synonymous with &#34;to be waited on, and do no work.&#34; It is the earnest desire of the authors of this volume to make plain the falsity of this growing popular feeling, and to show how much happier and more efficient family life will become when it is strengthened, sustained, and adorned by family work.  \\r\\n     An illustration of a house in the countryside with a cross displayed proudly over the front door. A number of people are working in the gardens in front of the house.   II.  A CHRISTIAN HOUSE.  IN the Divine Word it is written, &#34;The wise woman buildeth her house.&#34; To be &#34;wise,&#34; is &#34;to choose the best means for accomplishing the best end.&#34; It has been shown that the best end for a woman to seek is the training of God\\&#39;s children for their eternal home, by guiding them to intelligence, virtue, and true happiness. When, therefore, the wise woman seeks a home in which to exercise this   ministry, she will aim to secure a house so planned that it will provide in the best manner for health, industry, and economy, those cardinal requisites of domestic enjoyment and success. To aid in this, is the object of the following drawings and descriptions, which will illustrate a style of living more conformed to the great design for which the family is instituted than that which ordinarily prevails among those classes which take the lead in forming the customs of society. The aim will be to exhibit modes of economizing labor, time, and expenses, so as to secure health, thrift, and domestic happiness to persons of limited means, in a measure rarely attained even by those who possess wealth.  At the head of this chapter is a sketch of what may be properly called a Christian house; that is, a house contrived for the express purpose of enabling every member of a family to labor with the hands for the common good, and by modes at once healthful, economical, and tasteful.  Of course, much of the instruction conveyed in the following pages is chiefly applicable to the wants and habits of those living either in the country or in such suburban vicinities as give space of ground for healthful outdoor occupation in the family service, although the general principles of house-building and house-keeping are of necessity universal in their application--as true in the busy confines of the city as in the freer and purer quietude of the country. So far as circumstances can be made to yield the opportunity, it will be assumed that the family state demands some outdoor labor for all. The cultivation of flowers to ornament the table and house, of fruits and vegetables for food, of silk and cotton for clothing, and the care of horse, cow, and dairy, can be so divided that each and all of the family, some part of the day, can take exercise in the pure air, under the magnetic and healthful rays of the sun. Every head of a family should seek a soil and climate which will afford such opportunities.   Railroads, enabling men toiling in cities to rear families in the country, are on this account a special blessing. So, also, is the opening of the South to free labor, where, in the pure and mild climate of the uplands, open-air labor can proceed most of the year, and women and children labor out of doors as well as within.  In the following\n",
       "*** WARNING: skipped 900553 bytes of output ***\n",
       "\n",
       "</div>"
      ]
     },
     "metadata": {},
     "output_type": "display_data"
    }
   ],
   "source": [
    "#notice that the file name and the contents are in tuple pair\n",
    "cb_txt.take(2)"
   ]
  },
  {
   "cell_type": "code",
   "execution_count": 8,
   "metadata": {},
   "outputs": [
    {
     "data": {
      "text/html": [
       "<style scoped>\n",
       "  .ansiout {\n",
       "    display: block;\n",
       "    unicode-bidi: embed;\n",
       "    white-space: pre-wrap;\n",
       "    word-wrap: break-word;\n",
       "    word-break: break-all;\n",
       "    font-family: \"Source Code Pro\", \"Menlo\", monospace;;\n",
       "    font-size: 13px;\n",
       "    color: #555;\n",
       "    margin-left: 4px;\n",
       "    line-height: 19px;\n",
       "  }\n",
       "</style>\n",
       "<div class=\"ansiout\">Out[63]: 76</div>"
      ]
     },
     "metadata": {},
     "output_type": "display_data"
    }
   ],
   "source": [
    "cb_txt.count()"
   ]
  },
  {
   "cell_type": "code",
   "execution_count": 9,
   "metadata": {},
   "outputs": [
    {
     "data": {
      "text/html": [
       "<style scoped>\n",
       "  .ansiout {\n",
       "    display: block;\n",
       "    unicode-bidi: embed;\n",
       "    white-space: pre-wrap;\n",
       "    word-wrap: break-word;\n",
       "    word-break: break-all;\n",
       "    font-family: \"Source Code Pro\", \"Menlo\", monospace;;\n",
       "    font-size: 13px;\n",
       "    color: #555;\n",
       "    margin-left: 4px;\n",
       "    line-height: 19px;\n",
       "  }\n",
       "</style>\n",
       "<div class=\"ansiout\"></div>"
      ]
     },
     "metadata": {},
     "output_type": "display_data"
    }
   ],
   "source": [
    "#remove the file name from rdd as it is not required\n",
    "cb_txt2 = cb_txt.map(lambda line : (( line[1])))"
   ]
  },
  {
   "cell_type": "code",
   "execution_count": 10,
   "metadata": {},
   "outputs": [
    {
     "data": {
      "text/html": [
       "<style scoped>\n",
       "  .ansiout {\n",
       "    display: block;\n",
       "    unicode-bidi: embed;\n",
       "    white-space: pre-wrap;\n",
       "    word-wrap: break-word;\n",
       "    word-break: break-all;\n",
       "    font-family: \"Source Code Pro\", \"Menlo\", monospace;;\n",
       "    font-size: 13px;\n",
       "    color: #555;\n",
       "    margin-left: 4px;\n",
       "    line-height: 19px;\n",
       "  }\n",
       "</style>\n",
       "<div class=\"ansiout\"></div>"
      ]
     },
     "metadata": {},
     "output_type": "display_data"
    }
   ],
   "source": [
    "#replace \\n from the content\n",
    "cb_txt2 = cb_txt2.map(lambda r: r.replace('\\n', '')) "
   ]
  },
  {
   "cell_type": "code",
   "execution_count": 11,
   "metadata": {},
   "outputs": [
    {
     "data": {
      "text/html": [
       "<style scoped>\n",
       "  .ansiout {\n",
       "    display: block;\n",
       "    unicode-bidi: embed;\n",
       "    white-space: pre-wrap;\n",
       "    word-wrap: break-word;\n",
       "    word-break: break-all;\n",
       "    font-family: \"Source Code Pro\", \"Menlo\", monospace;;\n",
       "    font-size: 13px;\n",
       "    color: #555;\n",
       "    margin-left: 4px;\n",
       "    line-height: 19px;\n",
       "  }\n",
       "</style>\n",
       "<div class=\"ansiout\">Out[100]: [&#39;         The American Matron: Or, Practical and Scientific Cookery.  By a Housekeeper.  Boston: J. Munroe &amp;amp; Co., 1851  [Page images for  The American Matron  were produced before MSU began the &#34;Feeding America&#34; digitization project. This title is not formally part of the project and will not be transcribed.]      &#39;]</div>"
      ]
     },
     "metadata": {},
     "output_type": "display_data"
    }
   ],
   "source": [
    "cb_txt2.take(1)"
   ]
  },
  {
   "cell_type": "code",
   "execution_count": 12,
   "metadata": {},
   "outputs": [
    {
     "data": {
      "text/html": [
       "<style scoped>\n",
       "  .ansiout {\n",
       "    display: block;\n",
       "    unicode-bidi: embed;\n",
       "    white-space: pre-wrap;\n",
       "    word-wrap: break-word;\n",
       "    word-break: break-all;\n",
       "    font-family: \"Source Code Pro\", \"Menlo\", monospace;;\n",
       "    font-size: 13px;\n",
       "    color: #555;\n",
       "    margin-left: 4px;\n",
       "    line-height: 19px;\n",
       "  }\n",
       "</style>\n",
       "<div class=\"ansiout\"></div>"
      ]
     },
     "metadata": {},
     "output_type": "display_data"
    }
   ],
   "source": [
    "cb_txt2 = cb_txt2.map(lambda r: Row(r))"
   ]
  },
  {
   "cell_type": "code",
   "execution_count": 13,
   "metadata": {},
   "outputs": [
    {
     "data": {
      "text/html": [
       "<style scoped>\n",
       "  .ansiout {\n",
       "    display: block;\n",
       "    unicode-bidi: embed;\n",
       "    white-space: pre-wrap;\n",
       "    word-wrap: break-word;\n",
       "    word-break: break-all;\n",
       "    font-family: \"Source Code Pro\", \"Menlo\", monospace;;\n",
       "    font-size: 13px;\n",
       "    color: #555;\n",
       "    margin-left: 4px;\n",
       "    line-height: 19px;\n",
       "  }\n",
       "</style>\n",
       "<div class=\"ansiout\"></div>"
      ]
     },
     "metadata": {},
     "output_type": "display_data"
    }
   ],
   "source": [
    "#convert to dataframe\n",
    "cb_txt2 = cb_txt2.toDF()"
   ]
  },
  {
   "cell_type": "code",
   "execution_count": 14,
   "metadata": {},
   "outputs": [
    {
     "data": {
      "text/html": [
       "<style scoped>\n",
       "  .ansiout {\n",
       "    display: block;\n",
       "    unicode-bidi: embed;\n",
       "    white-space: pre-wrap;\n",
       "    word-wrap: break-word;\n",
       "    word-break: break-all;\n",
       "    font-family: \"Source Code Pro\", \"Menlo\", monospace;;\n",
       "    font-size: 13px;\n",
       "    color: #555;\n",
       "    margin-left: 4px;\n",
       "    line-height: 19px;\n",
       "  }\n",
       "</style>\n",
       "<div class=\"ansiout\">Out[103]: 76</div>"
      ]
     },
     "metadata": {},
     "output_type": "display_data"
    }
   ],
   "source": [
    "cb_txt2.count()"
   ]
  },
  {
   "cell_type": "code",
   "execution_count": 15,
   "metadata": {},
   "outputs": [
    {
     "data": {
      "text/html": [
       "<style scoped>\n",
       "  .ansiout {\n",
       "    display: block;\n",
       "    unicode-bidi: embed;\n",
       "    white-space: pre-wrap;\n",
       "    word-wrap: break-word;\n",
       "    word-break: break-all;\n",
       "    font-family: \"Source Code Pro\", \"Menlo\", monospace;;\n",
       "    font-size: 13px;\n",
       "    color: #555;\n",
       "    margin-left: 4px;\n",
       "    line-height: 19px;\n",
       "  }\n",
       "</style>\n",
       "<div class=\"ansiout\">+--------------------+\n",
       "                  _1|\n",
       "+--------------------+\n",
       "         The Amer...|\n",
       " \r",
       " \r",
       " \r",
       "  The Ameri...|\n",
       " \r",
       " \r",
       " \r",
       " \r",
       " Manual F...|\n",
       " \r",
       " \r",
       " \r",
       "  &#34;Aunt Bab...|\n",
       " \r",
       " \r",
       " \r",
       " \r",
       " \r",
       " \r",
       " \r",
       " \r",
       " ...|\n",
       " \r",
       " \r",
       " \r",
       "   \r",
       "   \r",
       "   ...|\n",
       " \r",
       " \r",
       " \r",
       " \r",
       " \r",
       " \r",
       " \r",
       " \r",
       " ...|\n",
       " \r",
       " \r",
       " \r",
       " \r",
       " \r",
       " \r",
       "  \r",
       " \r",
       "...|\n",
       " \r",
       " \r",
       " \r",
       " \r",
       " Breakfas...|\n",
       " \r",
       " \r",
       " \r",
       "  \r",
       " \r",
       "  \r",
       " Pr...|\n",
       " \r",
       " \r",
       " \r",
       "   Cooking ...|\n",
       " \r",
       " \r",
       "  \r",
       " \r",
       " Dr. Cha...|\n",
       " \r",
       " \r",
       "  \r",
       " \r",
       " Chinese...|\n",
       " \r",
       " \r",
       " \r",
       " \r",
       " Chocolat...|\n",
       " \r",
       " \r",
       " \r",
       " \r",
       " Common S...|\n",
       " \r",
       " \r",
       "  \r",
       " \r",
       " The Com...|\n",
       " \r",
       " \r",
       " \r",
       " \r",
       " The Cook...|\n",
       " \r",
       " \r",
       " \r",
       " \r",
       " La Cuisi...|\n",
       " \r",
       " \r",
       " \r",
       " \r",
       " Directio...|\n",
       " \r",
       " \r",
       " \r",
       " \r",
       "  Dishes ...|\n",
       "+--------------------+\n",
       "only showing top 20 rows\n",
       "\n",
       "</div>"
      ]
     },
     "metadata": {},
     "output_type": "display_data"
    }
   ],
   "source": [
    "cb_txt2.show()"
   ]
  },
  {
   "cell_type": "code",
   "execution_count": 16,
   "metadata": {},
   "outputs": [
    {
     "data": {
      "text/html": [
       "<style scoped>\n",
       "  .ansiout {\n",
       "    display: block;\n",
       "    unicode-bidi: embed;\n",
       "    white-space: pre-wrap;\n",
       "    word-wrap: break-word;\n",
       "    word-break: break-all;\n",
       "    font-family: \"Source Code Pro\", \"Menlo\", monospace;;\n",
       "    font-size: 13px;\n",
       "    color: #555;\n",
       "    margin-left: 4px;\n",
       "    line-height: 19px;\n",
       "  }\n",
       "</style>\n",
       "<div class=\"ansiout\"></div>"
      ]
     },
     "metadata": {},
     "output_type": "display_data"
    }
   ],
   "source": [
    "#Rename column \n",
    "cb_txt2 = cb_txt2.withColumnRenamed('_1','cookbook_text')"
   ]
  },
  {
   "cell_type": "code",
   "execution_count": 17,
   "metadata": {},
   "outputs": [
    {
     "data": {
      "text/html": [
       "<style scoped>\n",
       "  .ansiout {\n",
       "    display: block;\n",
       "    unicode-bidi: embed;\n",
       "    white-space: pre-wrap;\n",
       "    word-wrap: break-word;\n",
       "    word-break: break-all;\n",
       "    font-family: \"Source Code Pro\", \"Menlo\", monospace;;\n",
       "    font-size: 13px;\n",
       "    color: #555;\n",
       "    margin-left: 4px;\n",
       "    line-height: 19px;\n",
       "  }\n",
       "</style>\n",
       "<div class=\"ansiout\"></div>"
      ]
     },
     "metadata": {},
     "output_type": "display_data"
    }
   ],
   "source": [
    "#trim column for leading and trailing white spaces\n",
    "from pyspark.sql.functions import trim\n",
    "cb_txt2 = cb_txt2.withColumn(\"cookbook_text\", trim(cb_txt2.cookbook_text))"
   ]
  },
  {
   "cell_type": "code",
   "execution_count": 18,
   "metadata": {},
   "outputs": [
    {
     "data": {
      "text/html": [
       "<style scoped>\n",
       "  .ansiout {\n",
       "    display: block;\n",
       "    unicode-bidi: embed;\n",
       "    white-space: pre-wrap;\n",
       "    word-wrap: break-word;\n",
       "    word-break: break-all;\n",
       "    font-family: \"Source Code Pro\", \"Menlo\", monospace;;\n",
       "    font-size: 13px;\n",
       "    color: #555;\n",
       "    margin-left: 4px;\n",
       "    line-height: 19px;\n",
       "  }\n",
       "</style>\n",
       "<div class=\"ansiout\">+--------------------+\n",
       "       cookbook_text|\n",
       "+--------------------+\n",
       "The American Matr...|\n",
       "\r",
       " \r",
       " \r",
       "  The Americ...|\n",
       "\r",
       " \r",
       " \r",
       " \r",
       " Manual Fo...|\n",
       "\r",
       " \r",
       " \r",
       "  &#34;Aunt Babe...|\n",
       "\r",
       " \r",
       " \r",
       " \r",
       " \r",
       " \r",
       " \r",
       " \r",
       " \r",
       "...|\n",
       "\r",
       " \r",
       " \r",
       "   \r",
       "   \r",
       "    ...|\n",
       "\r",
       " \r",
       " \r",
       " \r",
       " \r",
       " \r",
       " \r",
       " \r",
       " \r",
       "...|\n",
       "\r",
       " \r",
       " \r",
       " \r",
       " \r",
       " \r",
       "  \r",
       " \r",
       " ...|\n",
       "\r",
       " \r",
       " \r",
       " \r",
       " Breakfast...|\n",
       "\r",
       " \r",
       " \r",
       "  \r",
       " \r",
       "  \r",
       " Pra...|\n",
       "\r",
       " \r",
       " \r",
       "   Cooking i...|\n",
       "\r",
       " \r",
       "  \r",
       " \r",
       " Dr. Chas...|\n",
       "\r",
       " \r",
       "  \r",
       " \r",
       " Chinese-...|\n",
       "\r",
       " \r",
       " \r",
       " \r",
       " Chocolate...|\n",
       "\r",
       " \r",
       " \r",
       " \r",
       " Common Se...|\n",
       "\r",
       " \r",
       "  \r",
       " \r",
       " The Comp...|\n",
       "\r",
       " \r",
       " \r",
       " \r",
       " The Cook&#39;...|\n",
       "\r",
       " \r",
       " \r",
       " \r",
       " La Cuisin...|\n",
       "\r",
       " \r",
       " \r",
       " \r",
       " Direction...|\n",
       "\r",
       " \r",
       " \r",
       " \r",
       "  Dishes &amp;...|\n",
       "+--------------------+\n",
       "only showing top 20 rows\n",
       "\n",
       "</div>"
      ]
     },
     "metadata": {},
     "output_type": "display_data"
    }
   ],
   "source": [
    "cb_txt2.show()"
   ]
  },
  {
   "cell_type": "code",
   "execution_count": 19,
   "metadata": {},
   "outputs": [
    {
     "data": {
      "text/html": [
       "<style scoped>\n",
       "  .ansiout {\n",
       "    display: block;\n",
       "    unicode-bidi: embed;\n",
       "    white-space: pre-wrap;\n",
       "    word-wrap: break-word;\n",
       "    word-break: break-all;\n",
       "    font-family: \"Source Code Pro\", \"Menlo\", monospace;;\n",
       "    font-size: 13px;\n",
       "    color: #555;\n",
       "    margin-left: 4px;\n",
       "    line-height: 19px;\n",
       "  }\n",
       "</style>\n",
       "<div class=\"ansiout\"></div>"
      ]
     },
     "metadata": {},
     "output_type": "display_data"
    }
   ],
   "source": [
    "#tokenize the cookbook_text column\n",
    "retoken = RegexTokenizer(inputCol=\"cookbook_text\", outputCol=\"words\", pattern=\"\\\\W\")\n",
    "cb_csv3 = retoken.transform(cb_txt2)"
   ]
  },
  {
   "cell_type": "code",
   "execution_count": 20,
   "metadata": {},
   "outputs": [
    {
     "data": {
      "text/html": [
       "<style scoped>\n",
       "  .ansiout {\n",
       "    display: block;\n",
       "    unicode-bidi: embed;\n",
       "    white-space: pre-wrap;\n",
       "    word-wrap: break-word;\n",
       "    word-break: break-all;\n",
       "    font-family: \"Source Code Pro\", \"Menlo\", monospace;;\n",
       "    font-size: 13px;\n",
       "    color: #555;\n",
       "    margin-left: 4px;\n",
       "    line-height: 19px;\n",
       "  }\n",
       "</style>\n",
       "<div class=\"ansiout\">+--------------------+--------------------+\n",
       "       cookbook_text|               words|\n",
       "+--------------------+--------------------+\n",
       "The American Matr...|[the, american, m...|\n",
       "\r",
       " \r",
       " \r",
       "  The Americ...|[the, american, w...|\n",
       "\r",
       " \r",
       " \r",
       " \r",
       " Manual Fo...|[manual, for, arm...|\n",
       "\r",
       " \r",
       " \r",
       "  &#34;Aunt Babe...|[aunt, babette, s...|\n",
       "\r",
       " \r",
       " \r",
       " \r",
       " \r",
       " \r",
       " \r",
       " \r",
       " \r",
       "...|[the, ideal, bart...|\n",
       "\r",
       " \r",
       " \r",
       "   \r",
       "   \r",
       "    ...|[a, bookplate, il...|\n",
       "\r",
       " \r",
       " \r",
       " \r",
       " \r",
       " \r",
       " \r",
       " \r",
       " \r",
       "...|[the, blue, grass...|\n",
       "\r",
       " \r",
       " \r",
       " \r",
       " \r",
       " \r",
       "  \r",
       " \r",
       " ...|[the, boston, coo...|\n",
       "\r",
       " \r",
       " \r",
       " \r",
       " Breakfast...|[breakfast, lunch...|\n",
       "\r",
       " \r",
       " \r",
       "  \r",
       " \r",
       "  \r",
       " Pra...|[practical, house...|\n",
       "\r",
       " \r",
       " \r",
       "   Cooking i...|[cooking, in, old...|\n",
       "\r",
       " \r",
       "  \r",
       " \r",
       " Dr. Chas...|[dr, chase, s, re...|\n",
       "\r",
       " \r",
       "  \r",
       " \r",
       " Chinese-...|[chinese, japanes...|\n",
       "\r",
       " \r",
       " \r",
       " \r",
       " Chocolate...|[chocolate, and, ...|\n",
       "\r",
       " \r",
       " \r",
       " \r",
       " Common Se...|[common, sense, i...|\n",
       "\r",
       " \r",
       "  \r",
       " \r",
       " The Comp...|[the, complete, c...|\n",
       "\r",
       " \r",
       " \r",
       " \r",
       " The Cook&#39;...|[the, cook, s, ow...|\n",
       "\r",
       " \r",
       " \r",
       " \r",
       " La Cuisin...|[la, cuisine, cre...|\n",
       "\r",
       " \r",
       " \r",
       " \r",
       " Direction...|[directions, for,...|\n",
       "\r",
       " \r",
       " \r",
       " \r",
       "  Dishes &amp;...|[dishes, amp, bev...|\n",
       "+--------------------+--------------------+\n",
       "only showing top 20 rows\n",
       "\n",
       "</div>"
      ]
     },
     "metadata": {},
     "output_type": "display_data"
    }
   ],
   "source": [
    "cb_csv3.show()"
   ]
  },
  {
   "cell_type": "code",
   "execution_count": 21,
   "metadata": {},
   "outputs": [],
   "source": [
    "#With shingles of size 5 we now create a count vectorizer\n",
    "# This count vectorizer will extract vocabulary and generate a CountVectorizerModel\n",
    "#this is the first step of 3 for duplicate MinHash\n",
    "vec = CountVectorizer(inputCol = 'words', outputCol = 'vectors', vocabSize = 5, minDF = 2.0)\n",
    "shingles_cv = vec.fit(cb_csv3).transform(cb_csv3)"
   ]
  },
  {
   "cell_type": "code",
   "execution_count": 22,
   "metadata": {},
   "outputs": [
    {
     "data": {
      "text/html": [
       "<style scoped>\n",
       "  .ansiout {\n",
       "    display: block;\n",
       "    unicode-bidi: embed;\n",
       "    white-space: pre-wrap;\n",
       "    word-wrap: break-word;\n",
       "    word-break: break-all;\n",
       "    font-family: \"Source Code Pro\", \"Menlo\", monospace;;\n",
       "    font-size: 13px;\n",
       "    color: #555;\n",
       "    margin-left: 4px;\n",
       "    line-height: 19px;\n",
       "  }\n",
       "</style>\n",
       "<div class=\"ansiout\">+--------------------+--------------------+--------------------+---+\n",
       "       cookbook_text|               words|             vectors| id|\n",
       "+--------------------+--------------------+--------------------+---+\n",
       "The American Matr...|[the, american, m...|(5,[0,1,2,3],[4.0...|  0|\n",
       "\r",
       " \r",
       " \r",
       "  The Americ...|[the, american, w...|(5,[0,1,2,3,4],[1...|  1|\n",
       "\r",
       " \r",
       " \r",
       " \r",
       " Manual Fo...|[manual, for, arm...|(5,[0,1,2,3,4],[4...|  2|\n",
       "\r",
       " \r",
       " \r",
       "  &#34;Aunt Babe...|[aunt, babette, s...|(5,[0,1,2,3,4],[5...|  3|\n",
       "\r",
       " \r",
       " \r",
       " \r",
       " \r",
       " \r",
       " \r",
       " \r",
       " \r",
       "...|[the, ideal, bart...|(5,[0,1,2,3,4],[2...|  4|\n",
       "\r",
       " \r",
       " \r",
       "   \r",
       "   \r",
       "    ...|[a, bookplate, il...|(5,[0,1,2,3,4],[5...|  5|\n",
       "\r",
       " \r",
       " \r",
       " \r",
       " \r",
       " \r",
       " \r",
       " \r",
       " \r",
       "...|[the, blue, grass...|(5,[0,1,2,3,4],[1...|  6|\n",
       "\r",
       " \r",
       " \r",
       " \r",
       " \r",
       " \r",
       "  \r",
       " \r",
       " ...|[the, boston, coo...|(5,[0,1,2,3,4],[2...|  7|\n",
       "\r",
       " \r",
       " \r",
       " \r",
       " Breakfast...|[breakfast, lunch...|(5,[0,1,2,3,4],[6...|  8|\n",
       "\r",
       " \r",
       " \r",
       "  \r",
       " \r",
       "  \r",
       " Pra...|[practical, house...|(5,[0,1,2,3,4],[9...|  9|\n",
       "\r",
       " \r",
       " \r",
       "   Cooking i...|[cooking, in, old...|(5,[0,1,2,3,4],[1...| 10|\n",
       "\r",
       " \r",
       "  \r",
       " \r",
       " Dr. Chas...|[dr, chase, s, re...|(5,[0,1,2,3,4],[9...| 11|\n",
       "\r",
       " \r",
       "  \r",
       " \r",
       " Chinese-...|[chinese, japanes...|(5,[0,1,2,3,4],[6...| 12|\n",
       "\r",
       " \r",
       " \r",
       " \r",
       " Chocolate...|[chocolate, and, ...|(5,[0,1,2,3,4],[1...| 13|\n",
       "\r",
       " \r",
       " \r",
       " \r",
       " Common Se...|[common, sense, i...|(5,[0,1,2,3,4],[8...| 14|\n",
       "\r",
       " \r",
       "  \r",
       " \r",
       " The Comp...|[the, complete, c...|(5,[0,1,2,3,4],[5...| 15|\n",
       "\r",
       " \r",
       " \r",
       " \r",
       " The Cook&#39;...|[the, cook, s, ow...|(5,[0,1,2,3,4],[1...| 16|\n",
       "\r",
       " \r",
       " \r",
       " \r",
       " La Cuisin...|[la, cuisine, cre...|(5,[0,1,2,3,4],[3...| 17|\n",
       "\r",
       " \r",
       " \r",
       " \r",
       " Direction...|[directions, for,...|(5,[0,1,2,3,4],[7...| 18|\n",
       "\r",
       " \r",
       " \r",
       " \r",
       "  Dishes &amp;...|[dishes, amp, bev...|(5,[0,1,2,3,4],[2...| 19|\n",
       "+--------------------+--------------------+--------------------+---+\n",
       "only showing top 20 rows\n",
       "\n",
       "</div>"
      ]
     },
     "metadata": {},
     "output_type": "display_data"
    }
   ],
   "source": [
    "shingles_cv.show()"
   ]
  },
  {
   "cell_type": "code",
   "execution_count": 23,
   "metadata": {},
   "outputs": [
    {
     "data": {
      "text/html": [
       "<style scoped>\n",
       "  .ansiout {\n",
       "    display: block;\n",
       "    unicode-bidi: embed;\n",
       "    white-space: pre-wrap;\n",
       "    word-wrap: break-word;\n",
       "    word-break: break-all;\n",
       "    font-family: \"Source Code Pro\", \"Menlo\", monospace;;\n",
       "    font-size: 13px;\n",
       "    color: #555;\n",
       "    margin-left: 4px;\n",
       "    line-height: 19px;\n",
       "  }\n",
       "</style>\n",
       "<div class=\"ansiout\"></div>"
      ]
     },
     "metadata": {},
     "output_type": "display_data"
    }
   ],
   "source": [
    "from pyspark.sql.functions import monotonically_increasing_id\n",
    "\n",
    "# This will return a new DF with all the columns + unique id\n",
    "#note some ids are big numbers as monotonically_increasing_id has not autoincremented but all id values are unique so it should'nt be a problem \n",
    "shingles_cv = shingles_cv.withColumn(\"id\", monotonically_increasing_id())"
   ]
  },
  {
   "cell_type": "code",
   "execution_count": 24,
   "metadata": {},
   "outputs": [
    {
     "data": {
      "text/html": [
       "<style scoped>\n",
       "  .ansiout {\n",
       "    display: block;\n",
       "    unicode-bidi: embed;\n",
       "    white-space: pre-wrap;\n",
       "    word-wrap: break-word;\n",
       "    word-break: break-all;\n",
       "    font-family: \"Source Code Pro\", \"Menlo\", monospace;;\n",
       "    font-size: 13px;\n",
       "    color: #555;\n",
       "    margin-left: 4px;\n",
       "    line-height: 19px;\n",
       "  }\n",
       "</style>\n",
       "<div class=\"ansiout\">+----------+\n",
       "        id|\n",
       "+----------+\n",
       "         0|\n",
       "         1|\n",
       "         2|\n",
       "         3|\n",
       "         4|\n",
       "         5|\n",
       "         6|\n",
       "         7|\n",
       "         8|\n",
       "         9|\n",
       "        10|\n",
       "        11|\n",
       "        12|\n",
       "        13|\n",
       "        14|\n",
       "        15|\n",
       "        16|\n",
       "        17|\n",
       "        18|\n",
       "        19|\n",
       "        20|\n",
       "        21|\n",
       "        22|\n",
       "        23|\n",
       "        24|\n",
       "        25|\n",
       "        26|\n",
       "        27|\n",
       "        28|\n",
       "        29|\n",
       "        30|\n",
       "        31|\n",
       "        32|\n",
       "        33|\n",
       "        34|\n",
       "        35|\n",
       "        36|\n",
       "        37|\n",
       "        38|\n",
       "        39|\n",
       "        40|\n",
       "        41|\n",
       "        42|\n",
       "        43|\n",
       "        44|\n",
       "        45|\n",
       "        46|\n",
       "        47|\n",
       "        48|\n",
       "        49|\n",
       "8589934592|\n",
       "8589934593|\n",
       "8589934594|\n",
       "8589934595|\n",
       "8589934596|\n",
       "8589934597|\n",
       "8589934598|\n",
       "8589934599|\n",
       "8589934600|\n",
       "8589934601|\n",
       "8589934602|\n",
       "8589934603|\n",
       "8589934604|\n",
       "8589934605|\n",
       "8589934606|\n",
       "8589934607|\n",
       "8589934608|\n",
       "8589934609|\n",
       "8589934610|\n",
       "8589934611|\n",
       "8589934612|\n",
       "8589934613|\n",
       "8589934614|\n",
       "8589934615|\n",
       "8589934616|\n",
       "8589934617|\n",
       "+----------+\n",
       "\n",
       "</div>"
      ]
     },
     "metadata": {},
     "output_type": "display_data"
    }
   ],
   "source": [
    "shingles_cv.select('id').show(76)"
   ]
  },
  {
   "cell_type": "code",
   "execution_count": 25,
   "metadata": {},
   "outputs": [
    {
     "data": {
      "text/html": [
       "<style scoped>\n",
       "  .ansiout {\n",
       "    display: block;\n",
       "    unicode-bidi: embed;\n",
       "    white-space: pre-wrap;\n",
       "    word-wrap: break-word;\n",
       "    word-break: break-all;\n",
       "    font-family: \"Source Code Pro\", \"Menlo\", monospace;;\n",
       "    font-size: 13px;\n",
       "    color: #555;\n",
       "    margin-left: 4px;\n",
       "    line-height: 19px;\n",
       "  }\n",
       "</style>\n",
       "<div class=\"ansiout\">Out[123]: Row(cookbook_text=&#39;The American Matron: Or, Practical and Scientific Cookery.  By a Housekeeper.  Boston: J. Munroe &amp;amp; Co., 1851  [Page images for  The American Matron  were produced before MSU began the &#34;Feeding America&#34; digitization project. This title is not formally part of the project and will not be transcribed.]&#39;, words=[&#39;the&#39;, &#39;american&#39;, &#39;matron&#39;, &#39;or&#39;, &#39;practical&#39;, &#39;and&#39;, &#39;scientific&#39;, &#39;cookery&#39;, &#39;by&#39;, &#39;a&#39;, &#39;housekeeper&#39;, &#39;boston&#39;, &#39;j&#39;, &#39;munroe&#39;, &#39;amp&#39;, &#39;co&#39;, &#39;1851&#39;, &#39;page&#39;, &#39;images&#39;, &#39;for&#39;, &#39;the&#39;, &#39;american&#39;, &#39;matron&#39;, &#39;were&#39;, &#39;produced&#39;, &#39;before&#39;, &#39;msu&#39;, &#39;began&#39;, &#39;the&#39;, &#39;feeding&#39;, &#39;america&#39;, &#39;digitization&#39;, &#39;project&#39;, &#39;this&#39;, &#39;title&#39;, &#39;is&#39;, &#39;not&#39;, &#39;formally&#39;, &#39;part&#39;, &#39;of&#39;, &#39;the&#39;, &#39;project&#39;, &#39;and&#39;, &#39;will&#39;, &#39;not&#39;, &#39;be&#39;, &#39;transcribed&#39;], vectors=SparseVector(5, {0: 4.0, 1: 2.0, 2: 1.0, 3: 1.0}), id=0, Hashes=[DenseVector([133824602.0])])</div>"
      ]
     },
     "metadata": {},
     "output_type": "display_data"
    }
   ],
   "source": [
    "#applying minhash on shingles_cv\n",
    "min_hash = MinHashLSH(inputCol=\"vectors\", outputCol=\"Hashes\", seed = 12345)\n",
    "min_hash2 = min_hash.fit(shingles_cv)\n",
    "min_hash2.transform(shingles_cv).head()"
   ]
  },
  {
   "cell_type": "code",
   "execution_count": 26,
   "metadata": {},
   "outputs": [
    {
     "data": {
      "text/html": [
       "<style scoped>\n",
       "  .ansiout {\n",
       "    display: block;\n",
       "    unicode-bidi: embed;\n",
       "    white-space: pre-wrap;\n",
       "    word-wrap: break-word;\n",
       "    word-break: break-all;\n",
       "    font-family: \"Source Code Pro\", \"Menlo\", monospace;;\n",
       "    font-size: 13px;\n",
       "    color: #555;\n",
       "    margin-left: 4px;\n",
       "    line-height: 19px;\n",
       "  }\n",
       "</style>\n",
       "<div class=\"ansiout\"></div>"
      ]
     },
     "metadata": {},
     "output_type": "display_data"
    }
   ],
   "source": [
    "#I have created minhash3 for the sole purpose of showing the column with hashs after minHash\n",
    "minhash3 = min_hash.fit(shingles_cv).transform(shingles_cv)"
   ]
  },
  {
   "cell_type": "code",
   "execution_count": 27,
   "metadata": {},
   "outputs": [
    {
     "data": {
      "text/html": [
       "<style scoped>\n",
       "  .ansiout {\n",
       "    display: block;\n",
       "    unicode-bidi: embed;\n",
       "    white-space: pre-wrap;\n",
       "    word-wrap: break-word;\n",
       "    word-break: break-all;\n",
       "    font-family: \"Source Code Pro\", \"Menlo\", monospace;;\n",
       "    font-size: 13px;\n",
       "    color: #555;\n",
       "    margin-left: 4px;\n",
       "    line-height: 19px;\n",
       "  }\n",
       "</style>\n",
       "<div class=\"ansiout\">+--------------------+--------------------+--------------------+---+----------------+\n",
       "       cookbook_text|               words|             vectors| id|          Hashes|\n",
       "+--------------------+--------------------+--------------------+---+----------------+\n",
       "The American Matr...|[the, american, m...|(5,[0,1,2,3],[4.0...|  0|[[1.33824602E8]]|\n",
       "\r",
       " \r",
       " \r",
       "  The Americ...|[the, american, w...|(5,[0,1,2,3,4],[1...|  1|[[1.33824602E8]]|\n",
       "\r",
       " \r",
       " \r",
       " \r",
       " Manual Fo...|[manual, for, arm...|(5,[0,1,2,3,4],[4...|  2|[[1.33824602E8]]|\n",
       "\r",
       " \r",
       " \r",
       "  &#34;Aunt Babe...|[aunt, babette, s...|(5,[0,1,2,3,4],[5...|  3|[[1.33824602E8]]|\n",
       "\r",
       " \r",
       " \r",
       " \r",
       " \r",
       " \r",
       " \r",
       " \r",
       " \r",
       "...|[the, ideal, bart...|(5,[0,1,2,3,4],[2...|  4|[[1.33824602E8]]|\n",
       "\r",
       " \r",
       " \r",
       "   \r",
       "   \r",
       "    ...|[a, bookplate, il...|(5,[0,1,2,3,4],[5...|  5|[[1.33824602E8]]|\n",
       "\r",
       " \r",
       " \r",
       " \r",
       " \r",
       " \r",
       " \r",
       " \r",
       " \r",
       "...|[the, blue, grass...|(5,[0,1,2,3,4],[1...|  6|[[1.33824602E8]]|\n",
       "\r",
       " \r",
       " \r",
       " \r",
       " \r",
       " \r",
       "  \r",
       " \r",
       " ...|[the, boston, coo...|(5,[0,1,2,3,4],[2...|  7|[[1.33824602E8]]|\n",
       "\r",
       " \r",
       " \r",
       " \r",
       " Breakfast...|[breakfast, lunch...|(5,[0,1,2,3,4],[6...|  8|[[1.33824602E8]]|\n",
       "\r",
       " \r",
       " \r",
       "  \r",
       " \r",
       "  \r",
       " Pra...|[practical, house...|(5,[0,1,2,3,4],[9...|  9|[[1.33824602E8]]|\n",
       "\r",
       " \r",
       " \r",
       "   Cooking i...|[cooking, in, old...|(5,[0,1,2,3,4],[1...| 10|[[1.33824602E8]]|\n",
       "\r",
       " \r",
       "  \r",
       " \r",
       " Dr. Chas...|[dr, chase, s, re...|(5,[0,1,2,3,4],[9...| 11|[[1.33824602E8]]|\n",
       "\r",
       " \r",
       "  \r",
       " \r",
       " Chinese-...|[chinese, japanes...|(5,[0,1,2,3,4],[6...| 12|[[1.33824602E8]]|\n",
       "\r",
       " \r",
       " \r",
       " \r",
       " Chocolate...|[chocolate, and, ...|(5,[0,1,2,3,4],[1...| 13|[[1.33824602E8]]|\n",
       "\r",
       " \r",
       " \r",
       " \r",
       " Common Se...|[common, sense, i...|(5,[0,1,2,3,4],[8...| 14|[[1.33824602E8]]|\n",
       "\r",
       " \r",
       "  \r",
       " \r",
       " The Comp...|[the, complete, c...|(5,[0,1,2,3,4],[5...| 15|[[1.33824602E8]]|\n",
       "\r",
       " \r",
       " \r",
       " \r",
       " The Cook&#39;...|[the, cook, s, ow...|(5,[0,1,2,3,4],[1...| 16|[[1.33824602E8]]|\n",
       "\r",
       " \r",
       " \r",
       " \r",
       " La Cuisin...|[la, cuisine, cre...|(5,[0,1,2,3,4],[3...| 17|[[1.33824602E8]]|\n",
       "\r",
       " \r",
       " \r",
       " \r",
       " Direction...|[directions, for,...|(5,[0,1,2,3,4],[7...| 18|[[1.33824602E8]]|\n",
       "\r",
       " \r",
       " \r",
       " \r",
       "  Dishes &amp;...|[dishes, amp, bev...|(5,[0,1,2,3,4],[2...| 19|[[1.33824602E8]]|\n",
       "+--------------------+--------------------+--------------------+---+----------------+\n",
       "only showing top 20 rows\n",
       "\n",
       "</div>"
      ]
     },
     "metadata": {},
     "output_type": "display_data"
    }
   ],
   "source": [
    "minhash3.show()"
   ]
  },
  {
   "cell_type": "code",
   "execution_count": 28,
   "metadata": {},
   "outputs": [
    {
     "data": {
      "text/html": [
       "<style scoped>\n",
       "  .ansiout {\n",
       "    display: block;\n",
       "    unicode-bidi: embed;\n",
       "    white-space: pre-wrap;\n",
       "    word-wrap: break-word;\n",
       "    word-break: break-all;\n",
       "    font-family: \"Source Code Pro\", \"Menlo\", monospace;;\n",
       "    font-size: 13px;\n",
       "    color: #555;\n",
       "    margin-left: 4px;\n",
       "    line-height: 19px;\n",
       "  }\n",
       "</style>\n",
       "<div class=\"ansiout\">Out[127]: 76</div>"
      ]
     },
     "metadata": {},
     "output_type": "display_data"
    }
   ],
   "source": [
    "minhash3.count()"
   ]
  },
  {
   "cell_type": "code",
   "execution_count": 29,
   "metadata": {},
   "outputs": [
    {
     "data": {
      "text/html": [
       "<style scoped>\n",
       "  .ansiout {\n",
       "    display: block;\n",
       "    unicode-bidi: embed;\n",
       "    white-space: pre-wrap;\n",
       "    word-wrap: break-word;\n",
       "    word-break: break-all;\n",
       "    font-family: \"Source Code Pro\", \"Menlo\", monospace;;\n",
       "    font-size: 13px;\n",
       "    color: #555;\n",
       "    margin-left: 4px;\n",
       "    line-height: 19px;\n",
       "  }\n",
       "</style>\n",
       "<div class=\"ansiout\">+---+----------+-------------------+\n",
       "idA|       idB|    JaccardDistance|\n",
       "+---+----------+-------------------+\n",
       "  6|         0|0.19999999999999996|\n",
       "  7|8589934611|                0.0|\n",
       "  8|8589934607|                0.0|\n",
       "  5|        21|                0.0|\n",
       "  3|        17|                0.0|\n",
       "  2|         8|                0.0|\n",
       "  9|        43|                0.0|\n",
       "  3|8589934615|                0.0|\n",
       "  7|8589934616|                0.0|\n",
       "  9|         6|                0.0|\n",
       "  5|8589934603|                0.0|\n",
       "  5|        25|                0.0|\n",
       "  3|8589934592|                0.0|\n",
       "  6|         4|                0.0|\n",
       "  8|8589934602|                0.0|\n",
       " 10|        45|                0.0|\n",
       " 10|        28|                0.0|\n",
       "  0|         6|0.19999999999999996|\n",
       "  0|8589934601|0.19999999999999996|\n",
       "  4|        18|                0.0|\n",
       "+---+----------+-------------------+\n",
       "only showing top 20 rows\n",
       "\n",
       "</div>"
      ]
     },
     "metadata": {},
     "output_type": "display_data"
    }
   ],
   "source": [
    "#now we calculate the Jacard Distance. The lower the Jacard Distance the more the 2 txt files are duplicates as it caluculates dissimilarity b/w sample sets. So a Jacard Distance of 0 means that the txt files are complete duplicate Reference: https://en.wikipedia.org/wiki/Jaccard_index\n",
    "\n",
    "threshold = 0.6\n",
    "min_hash2.approxSimilarityJoin(shingles_cv, shingles_cv, threshold, distCol=\"JaccardDistance\")\\\n",
    "    .select(col(\"datasetA.id\").alias(\"idA\"),\n",
    "        col(\"datasetB.id\").alias(\"idB\"),\n",
    "        col(\"JaccardDistance\")).show()"
   ]
  }
 ],
 "metadata": {
  "kernelspec": {
   "display_name": "Python 3",
   "language": "python",
   "name": "python3"
  },
  "language_info": {
   "codemirror_mode": {
    "name": "ipython",
    "version": 3
   },
   "file_extension": ".py",
   "mimetype": "text/x-python",
   "name": "python",
   "nbconvert_exporter": "python",
   "pygments_lexer": "ipython3",
   "version": "3.7.4"
  },
  "name": "midterm_Q5",
  "notebookId": 3201940722162711
 },
 "nbformat": 4,
 "nbformat_minor": 1
}
