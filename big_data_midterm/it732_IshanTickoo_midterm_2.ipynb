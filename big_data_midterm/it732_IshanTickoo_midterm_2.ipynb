{
 "cells": [
  {
   "cell_type": "code",
   "execution_count": 72,
   "metadata": {},
   "outputs": [],
   "source": [
    "\n",
    "from pyspark.sql import SparkSession\n",
    "from pyspark.sql import functions as F\n",
    "from pyspark.sql.functions import lit\n",
    "import numpy as np\n"
   ]
  },
  {
   "cell_type": "code",
   "execution_count": 73,
   "metadata": {},
   "outputs": [
    {
     "data": {
      "text/html": [
       "\n",
       "            <div>\n",
       "                <p><b>SparkSession - in-memory</b></p>\n",
       "                \n",
       "        <div>\n",
       "            <p><b>SparkContext</b></p>\n",
       "\n",
       "            <p><a href=\"http://ishans-mbp:4042\">Spark UI</a></p>\n",
       "\n",
       "            <dl>\n",
       "              <dt>Version</dt>\n",
       "                <dd><code>v2.4.5</code></dd>\n",
       "              <dt>Master</dt>\n",
       "                <dd><code>local[*]</code></dd>\n",
       "              <dt>AppName</dt>\n",
       "                <dd><code>midterm_Q2</code></dd>\n",
       "            </dl>\n",
       "        </div>\n",
       "        \n",
       "            </div>\n",
       "        "
      ],
      "text/plain": [
       "<pyspark.sql.session.SparkSession at 0x121b19ad0>"
      ]
     },
     "execution_count": 73,
     "metadata": {},
     "output_type": "execute_result"
    }
   ],
   "source": [
    "spark = SparkSession.builder.getOrCreate()\n",
    "spark"
   ]
  },
  {
   "cell_type": "markdown",
   "metadata": {},
   "source": [
    "# Q2 a)."
   ]
  },
  {
   "cell_type": "code",
   "execution_count": 74,
   "metadata": {},
   "outputs": [],
   "source": [
    "\n",
    "path_driverdata = 'drive_stats_2019_Q1/*.csv'\n",
    "file_format = \"csv\"\n",
    "header_value = \"true\"\n",
    "infer_schema = \"true\"\n",
    "df = spark.read \\\n",
    "        .format(file_format) \\\n",
    "        .option(\"header\", header_value) \\\n",
    "        .option(\"inferSchema\", infer_schema) \\\n",
    "        .load(path_driverdata)\n"
   ]
  },
  {
   "cell_type": "code",
   "execution_count": 33,
   "metadata": {},
   "outputs": [
    {
     "data": {
      "text/plain": [
       "DataFrame[date: timestamp, serial_number: string, model: string, capacity_bytes: bigint, failure: int, smart_1_normalized: int, smart_1_raw: int, smart_2_normalized: int, smart_2_raw: int, smart_3_normalized: int, smart_3_raw: int, smart_4_normalized: int, smart_4_raw: int, smart_5_normalized: int, smart_5_raw: int, smart_7_normalized: int, smart_7_raw: bigint, smart_8_normalized: int, smart_8_raw: int, smart_9_normalized: int, smart_9_raw: int, smart_10_normalized: int, smart_10_raw: int, smart_11_normalized: int, smart_11_raw: int, smart_12_normalized: int, smart_12_raw: int, smart_13_normalized: string, smart_13_raw: string, smart_15_normalized: string, smart_15_raw: string, smart_16_normalized: int, smart_16_raw: int, smart_17_normalized: int, smart_17_raw: int, smart_22_normalized: int, smart_22_raw: int, smart_23_normalized: int, smart_23_raw: int, smart_24_normalized: int, smart_24_raw: int, smart_168_normalized: int, smart_168_raw: int, smart_170_normalized: int, smart_170_raw: int, smart_173_normalized: int, smart_173_raw: bigint, smart_174_normalized: int, smart_174_raw: int, smart_177_normalized: int, smart_177_raw: int, smart_179_normalized: string, smart_179_raw: string, smart_181_normalized: string, smart_181_raw: string, smart_182_normalized: string, smart_182_raw: string, smart_183_normalized: int, smart_183_raw: int, smart_184_normalized: int, smart_184_raw: int, smart_187_normalized: int, smart_187_raw: int, smart_188_normalized: int, smart_188_raw: bigint, smart_189_normalized: int, smart_189_raw: int, smart_190_normalized: int, smart_190_raw: int, smart_191_normalized: int, smart_191_raw: int, smart_192_normalized: int, smart_192_raw: int, smart_193_normalized: int, smart_193_raw: int, smart_194_normalized: int, smart_194_raw: int, smart_195_normalized: int, smart_195_raw: int, smart_196_normalized: int, smart_196_raw: int, smart_197_normalized: int, smart_197_raw: int, smart_198_normalized: int, smart_198_raw: int, smart_199_normalized: int, smart_199_raw: int, smart_200_normalized: int, smart_200_raw: int, smart_201_normalized: string, smart_201_raw: string, smart_218_normalized: int, smart_218_raw: int, smart_220_normalized: int, smart_220_raw: int, smart_222_normalized: int, smart_222_raw: int, smart_223_normalized: int, smart_223_raw: int, smart_224_normalized: int, smart_224_raw: int, smart_225_normalized: int, smart_225_raw: int, smart_226_normalized: int, smart_226_raw: int, smart_231_normalized: int, smart_231_raw: bigint, smart_232_normalized: int, smart_232_raw: bigint, smart_233_normalized: int, smart_233_raw: int, smart_235_normalized: int, smart_235_raw: bigint, smart_240_normalized: int, smart_240_raw: bigint, smart_241_normalized: int, smart_241_raw: bigint, smart_242_normalized: int, smart_242_raw: bigint, smart_250_normalized: int, smart_250_raw: int, smart_251_normalized: int, smart_251_raw: int, smart_252_normalized: int, smart_252_raw: int, smart_254_normalized: int, smart_254_raw: int, smart_255_normalized: string, smart_255_raw: string]"
      ]
     },
     "metadata": {},
     "output_type": "display_data"
    }
   ],
   "source": [
    "display(df)"
   ]
  },
  {
   "cell_type": "markdown",
   "metadata": {},
   "source": [
    "# Q2 b)."
   ]
  },
  {
   "cell_type": "code",
   "execution_count": 34,
   "metadata": {},
   "outputs": [
    {
     "name": "stdout",
     "output_type": "stream",
     "text": [
      "Columns of the dataframe are as follows:\n"
     ]
    },
    {
     "data": {
      "text/plain": [
       "['date',\n",
       " 'serial_number',\n",
       " 'model',\n",
       " 'capacity_bytes',\n",
       " 'failure',\n",
       " 'smart_1_normalized',\n",
       " 'smart_1_raw',\n",
       " 'smart_2_normalized',\n",
       " 'smart_2_raw',\n",
       " 'smart_3_normalized',\n",
       " 'smart_3_raw',\n",
       " 'smart_4_normalized',\n",
       " 'smart_4_raw',\n",
       " 'smart_5_normalized',\n",
       " 'smart_5_raw',\n",
       " 'smart_7_normalized',\n",
       " 'smart_7_raw',\n",
       " 'smart_8_normalized',\n",
       " 'smart_8_raw',\n",
       " 'smart_9_normalized',\n",
       " 'smart_9_raw',\n",
       " 'smart_10_normalized',\n",
       " 'smart_10_raw',\n",
       " 'smart_11_normalized',\n",
       " 'smart_11_raw',\n",
       " 'smart_12_normalized',\n",
       " 'smart_12_raw',\n",
       " 'smart_13_normalized',\n",
       " 'smart_13_raw',\n",
       " 'smart_15_normalized',\n",
       " 'smart_15_raw',\n",
       " 'smart_16_normalized',\n",
       " 'smart_16_raw',\n",
       " 'smart_17_normalized',\n",
       " 'smart_17_raw',\n",
       " 'smart_22_normalized',\n",
       " 'smart_22_raw',\n",
       " 'smart_23_normalized',\n",
       " 'smart_23_raw',\n",
       " 'smart_24_normalized',\n",
       " 'smart_24_raw',\n",
       " 'smart_168_normalized',\n",
       " 'smart_168_raw',\n",
       " 'smart_170_normalized',\n",
       " 'smart_170_raw',\n",
       " 'smart_173_normalized',\n",
       " 'smart_173_raw',\n",
       " 'smart_174_normalized',\n",
       " 'smart_174_raw',\n",
       " 'smart_177_normalized',\n",
       " 'smart_177_raw',\n",
       " 'smart_179_normalized',\n",
       " 'smart_179_raw',\n",
       " 'smart_181_normalized',\n",
       " 'smart_181_raw',\n",
       " 'smart_182_normalized',\n",
       " 'smart_182_raw',\n",
       " 'smart_183_normalized',\n",
       " 'smart_183_raw',\n",
       " 'smart_184_normalized',\n",
       " 'smart_184_raw',\n",
       " 'smart_187_normalized',\n",
       " 'smart_187_raw',\n",
       " 'smart_188_normalized',\n",
       " 'smart_188_raw',\n",
       " 'smart_189_normalized',\n",
       " 'smart_189_raw',\n",
       " 'smart_190_normalized',\n",
       " 'smart_190_raw',\n",
       " 'smart_191_normalized',\n",
       " 'smart_191_raw',\n",
       " 'smart_192_normalized',\n",
       " 'smart_192_raw',\n",
       " 'smart_193_normalized',\n",
       " 'smart_193_raw',\n",
       " 'smart_194_normalized',\n",
       " 'smart_194_raw',\n",
       " 'smart_195_normalized',\n",
       " 'smart_195_raw',\n",
       " 'smart_196_normalized',\n",
       " 'smart_196_raw',\n",
       " 'smart_197_normalized',\n",
       " 'smart_197_raw',\n",
       " 'smart_198_normalized',\n",
       " 'smart_198_raw',\n",
       " 'smart_199_normalized',\n",
       " 'smart_199_raw',\n",
       " 'smart_200_normalized',\n",
       " 'smart_200_raw',\n",
       " 'smart_201_normalized',\n",
       " 'smart_201_raw',\n",
       " 'smart_218_normalized',\n",
       " 'smart_218_raw',\n",
       " 'smart_220_normalized',\n",
       " 'smart_220_raw',\n",
       " 'smart_222_normalized',\n",
       " 'smart_222_raw',\n",
       " 'smart_223_normalized',\n",
       " 'smart_223_raw',\n",
       " 'smart_224_normalized',\n",
       " 'smart_224_raw',\n",
       " 'smart_225_normalized',\n",
       " 'smart_225_raw',\n",
       " 'smart_226_normalized',\n",
       " 'smart_226_raw',\n",
       " 'smart_231_normalized',\n",
       " 'smart_231_raw',\n",
       " 'smart_232_normalized',\n",
       " 'smart_232_raw',\n",
       " 'smart_233_normalized',\n",
       " 'smart_233_raw',\n",
       " 'smart_235_normalized',\n",
       " 'smart_235_raw',\n",
       " 'smart_240_normalized',\n",
       " 'smart_240_raw',\n",
       " 'smart_241_normalized',\n",
       " 'smart_241_raw',\n",
       " 'smart_242_normalized',\n",
       " 'smart_242_raw',\n",
       " 'smart_250_normalized',\n",
       " 'smart_250_raw',\n",
       " 'smart_251_normalized',\n",
       " 'smart_251_raw',\n",
       " 'smart_252_normalized',\n",
       " 'smart_252_raw',\n",
       " 'smart_254_normalized',\n",
       " 'smart_254_raw',\n",
       " 'smart_255_normalized',\n",
       " 'smart_255_raw']"
      ]
     },
     "execution_count": 34,
     "metadata": {},
     "output_type": "execute_result"
    }
   ],
   "source": [
    "print('Columns of the dataframe are as follows:')\n",
    "df_columns = df.columns\n",
    "df_columns"
   ]
  },
  {
   "cell_type": "markdown",
   "metadata": {},
   "source": [
    "# Q2 c)."
   ]
  },
  {
   "cell_type": "code",
   "execution_count": 45,
   "metadata": {},
   "outputs": [
    {
     "name": "stdout",
     "output_type": "stream",
     "text": [
      "Sort the first 20 rows by columns 'capacity_bytes' and 'model': \n",
      "+-------------------+-------------+-------------------+--------------+-------+------------------+-----------+------------------+-----------+------------------+-----------+------------------+-----------+------------------+-----------+------------------+-----------+------------------+-----------+------------------+-----------+-------------------+------------+-------------------+------------+-------------------+------------+-------------------+------------+-------------------+------------+-------------------+------------+-------------------+------------+-------------------+------------+-------------------+------------+-------------------+------------+--------------------+-------------+--------------------+-------------+--------------------+-------------+--------------------+-------------+--------------------+-------------+--------------------+-------------+--------------------+-------------+--------------------+-------------+--------------------+-------------+--------------------+-------------+--------------------+-------------+--------------------+-------------+--------------------+-------------+--------------------+-------------+--------------------+-------------+--------------------+-------------+--------------------+-------------+--------------------+-------------+--------------------+-------------+--------------------+-------------+--------------------+-------------+--------------------+-------------+--------------------+-------------+--------------------+-------------+--------------------+-------------+--------------------+-------------+--------------------+-------------+--------------------+-------------+--------------------+-------------+--------------------+-------------+--------------------+-------------+--------------------+-------------+--------------------+-------------+--------------------+-------------+--------------------+-------------+--------------------+-------------+--------------------+-------------+--------------------+-------------+--------------------+-------------+--------------------+-------------+--------------------+-------------+--------------------+-------------+--------------------+-------------+--------------------+-------------+\n",
      "|               date|serial_number|              model|capacity_bytes|failure|smart_1_normalized|smart_1_raw|smart_2_normalized|smart_2_raw|smart_3_normalized|smart_3_raw|smart_4_normalized|smart_4_raw|smart_5_normalized|smart_5_raw|smart_7_normalized|smart_7_raw|smart_8_normalized|smart_8_raw|smart_9_normalized|smart_9_raw|smart_10_normalized|smart_10_raw|smart_11_normalized|smart_11_raw|smart_12_normalized|smart_12_raw|smart_13_normalized|smart_13_raw|smart_15_normalized|smart_15_raw|smart_16_normalized|smart_16_raw|smart_17_normalized|smart_17_raw|smart_22_normalized|smart_22_raw|smart_23_normalized|smart_23_raw|smart_24_normalized|smart_24_raw|smart_168_normalized|smart_168_raw|smart_170_normalized|smart_170_raw|smart_173_normalized|smart_173_raw|smart_174_normalized|smart_174_raw|smart_177_normalized|smart_177_raw|smart_179_normalized|smart_179_raw|smart_181_normalized|smart_181_raw|smart_182_normalized|smart_182_raw|smart_183_normalized|smart_183_raw|smart_184_normalized|smart_184_raw|smart_187_normalized|smart_187_raw|smart_188_normalized|smart_188_raw|smart_189_normalized|smart_189_raw|smart_190_normalized|smart_190_raw|smart_191_normalized|smart_191_raw|smart_192_normalized|smart_192_raw|smart_193_normalized|smart_193_raw|smart_194_normalized|smart_194_raw|smart_195_normalized|smart_195_raw|smart_196_normalized|smart_196_raw|smart_197_normalized|smart_197_raw|smart_198_normalized|smart_198_raw|smart_199_normalized|smart_199_raw|smart_200_normalized|smart_200_raw|smart_201_normalized|smart_201_raw|smart_218_normalized|smart_218_raw|smart_220_normalized|smart_220_raw|smart_222_normalized|smart_222_raw|smart_223_normalized|smart_223_raw|smart_224_normalized|smart_224_raw|smart_225_normalized|smart_225_raw|smart_226_normalized|smart_226_raw|smart_231_normalized|smart_231_raw|smart_232_normalized|smart_232_raw|smart_233_normalized|smart_233_raw|smart_235_normalized|smart_235_raw|smart_240_normalized|smart_240_raw|smart_241_normalized|smart_241_raw|smart_242_normalized|smart_242_raw|smart_250_normalized|smart_250_raw|smart_251_normalized|smart_251_raw|smart_252_normalized|smart_252_raw|smart_254_normalized|smart_254_raw|smart_255_normalized|smart_255_raw|\n",
      "+-------------------+-------------+-------------------+--------------+-------+------------------+-----------+------------------+-----------+------------------+-----------+------------------+-----------+------------------+-----------+------------------+-----------+------------------+-----------+------------------+-----------+-------------------+------------+-------------------+------------+-------------------+------------+-------------------+------------+-------------------+------------+-------------------+------------+-------------------+------------+-------------------+------------+-------------------+------------+-------------------+------------+--------------------+-------------+--------------------+-------------+--------------------+-------------+--------------------+-------------+--------------------+-------------+--------------------+-------------+--------------------+-------------+--------------------+-------------+--------------------+-------------+--------------------+-------------+--------------------+-------------+--------------------+-------------+--------------------+-------------+--------------------+-------------+--------------------+-------------+--------------------+-------------+--------------------+-------------+--------------------+-------------+--------------------+-------------+--------------------+-------------+--------------------+-------------+--------------------+-------------+--------------------+-------------+--------------------+-------------+--------------------+-------------+--------------------+-------------+--------------------+-------------+--------------------+-------------+--------------------+-------------+--------------------+-------------+--------------------+-------------+--------------------+-------------+--------------------+-------------+--------------------+-------------+--------------------+-------------+--------------------+-------------+--------------------+-------------+--------------------+-------------+--------------------+-------------+--------------------+-------------+--------------------+-------------+--------------------+-------------+--------------------+-------------+--------------------+-------------+\n",
      "|2019-01-06 00:00:00| 78B0A03YF97G|TOSHIBA MG07ACA14TA|14000519643136|      0|               100|          0|               100|          0|               100|       7721|               100|          1|               100|          0|               100|          0|               100|          0|                95|       2289|                100|           0|               null|        null|                100|           1|               null|        null|               null|        null|               null|        null|               null|        null|               null|        null|                100|           0|                100|           0|                null|         null|                null|         null|                null|         null|                null|         null|                null|         null|                null|         null|                null|         null|                null|         null|                null|         null|                null|         null|                null|         null|                null|         null|                null|         null|                null|         null|                 100|            0|                 100|            0|                 100|           45|                 100|           32|                null|         null|                 100|            0|                 100|            0|                 100|            0|                 200|            0|                null|         null|                null|         null|                null|         null|                 100|     17956865|                  95|         2275|                 100|            0|                 100|            0|                null|         null|                 100|          532|                null|         null|                null|         null|                null|         null|                null|         null|                 100|            0|                null|         null|                null|         null|                null|         null|                null|         null|                null|         null|                null|         null|                null|         null|\n",
      "|2019-01-06 00:00:00| 88Q0A0B9F97G|TOSHIBA MG07ACA14TA|14000519643136|      0|               100|          0|               100|          0|               100|       7740|               100|          1|               100|          0|               100|          0|               100|          0|                95|       2312|                100|           0|               null|        null|                100|           1|               null|        null|               null|        null|               null|        null|               null|        null|               null|        null|                100|           0|                100|           0|                null|         null|                null|         null|                null|         null|                null|         null|                null|         null|                null|         null|                null|         null|                null|         null|                null|         null|                null|         null|                null|         null|                null|         null|                null|         null|                null|         null|                 100|            0|                 100|            0|                 100|           69|                 100|           26|                null|         null|                 100|            0|                 100|            0|                 100|            0|                 200|            0|                null|         null|                null|         null|                null|         null|                 100|     18743297|                  95|         2281|                 100|            0|                 100|            0|                null|         null|                 100|          536|                null|         null|                null|         null|                null|         null|                null|         null|                 100|            0|                null|         null|                null|         null|                null|         null|                null|         null|                null|         null|                null|         null|                null|         null|\n",
      "|2019-01-06 00:00:00| 78C0A00TF97G|TOSHIBA MG07ACA14TA|14000519643136|      0|               100|          0|               100|          0|               100|       7754|               100|          2|               100|          0|               100|          0|               100|          0|                95|       2310|                100|           0|               null|        null|                100|           2|               null|        null|               null|        null|               null|        null|               null|        null|               null|        null|                100|           0|                100|           0|                null|         null|                null|         null|                null|         null|                null|         null|                null|         null|                null|         null|                null|         null|                null|         null|                null|         null|                null|         null|                null|         null|                null|         null|                null|         null|                null|         null|                 100|            0|                 100|            1|                 100|           74|                 100|           26|                null|         null|                 100|            0|                 100|            0|                 100|            0|                 200|            0|                null|         null|                null|         null|                null|         null|                 100|    118489091|                  95|         2281|                 100|            0|                 100|            0|                null|         null|                 100|          533|                null|         null|                null|         null|                null|         null|                null|         null|                 100|            0|                null|         null|                null|         null|                null|         null|                null|         null|                null|         null|                null|         null|                null|         null|\n",
      "|2019-01-06 00:00:00| 78B0A052F97G|TOSHIBA MG07ACA14TA|14000519643136|      0|               100|          0|               100|          0|               100|       6929|               100|          3|               100|          0|               100|          0|               100|          0|                95|       2310|                100|           0|               null|        null|                100|           3|               null|        null|               null|        null|               null|        null|               null|        null|               null|        null|                100|           0|                100|           0|                null|         null|                null|         null|                null|         null|                null|         null|                null|         null|                null|         null|                null|         null|                null|         null|                null|         null|                null|         null|                null|         null|                null|         null|                null|         null|                null|         null|                 100|            0|                 100|            2|                 100|           66|                 100|           24|                null|         null|                 100|            0|                 100|            0|                 100|            0|                 200|            0|                null|         null|                null|         null|                null|         null|                 100|    118620162|                  95|         2279|                 100|            0|                 100|            0|                null|         null|                 100|          527|                null|         null|                null|         null|                null|         null|                null|         null|                 100|            0|                null|         null|                null|         null|                null|         null|                null|         null|                null|         null|                null|         null|                null|         null|\n",
      "|2019-01-06 00:00:00| 88P0A0C9F97G|TOSHIBA MG07ACA14TA|14000519643136|      0|               100|          0|               100|          0|               100|       7882|               100|          1|               100|          0|               100|          0|               100|          0|                95|       2285|                100|           0|               null|        null|                100|           1|               null|        null|               null|        null|               null|        null|               null|        null|               null|        null|                100|           0|                100|           0|                null|         null|                null|         null|                null|         null|                null|         null|                null|         null|                null|         null|                null|         null|                null|         null|                null|         null|                null|         null|                null|         null|                null|         null|                null|         null|                null|         null|                 100|            0|                 100|            0|                 100|           41|                 100|           33|                null|         null|                 100|            0|                 100|            0|                 100|            0|                 200|            0|                null|         null|                null|         null|                null|         null|                 100|     68943874|                  95|         2271|                 100|            0|                 100|            0|                null|         null|                 100|          536|                null|         null|                null|         null|                null|         null|                null|         null|                 100|            0|                null|         null|                null|         null|                null|         null|                null|         null|                null|         null|                null|         null|                null|         null|\n",
      "|2019-01-06 00:00:00| 78B0A075F97G|TOSHIBA MG07ACA14TA|14000519643136|      0|               100|          0|               100|          0|               100|       7946|               100|          2|               100|          0|               100|          0|               100|          0|                95|       2311|                100|           0|               null|        null|                100|           2|               null|        null|               null|        null|               null|        null|               null|        null|               null|        null|                100|           0|                100|           0|                null|         null|                null|         null|                null|         null|                null|         null|                null|         null|                null|         null|                null|         null|                null|         null|                null|         null|                null|         null|                null|         null|                null|         null|                null|         null|                null|         null|                 100|            0|                 100|            1|                 100|           60|                 100|           29|                null|         null|                 100|            0|                 100|            0|                 100|            0|                 200|            0|                null|         null|                null|         null|                null|         null|                 100|     17039361|                  95|         2278|                 100|            0|                 100|            0|                null|         null|                 100|          537|                null|         null|                null|         null|                null|         null|                null|         null|                 100|            0|                null|         null|                null|         null|                null|         null|                null|         null|                null|         null|                null|         null|                null|         null|\n",
      "|2019-01-06 00:00:00| 88Q0A0MUF97G|TOSHIBA MG07ACA14TA|14000519643136|      0|               100|          0|               100|          0|               100|       7808|               100|          3|               100|          0|               100|          0|               100|          0|                95|       2309|                100|           0|               null|        null|                100|           3|               null|        null|               null|        null|               null|        null|               null|        null|               null|        null|                100|           0|                100|           0|                null|         null|                null|         null|                null|         null|                null|         null|                null|         null|                null|         null|                null|         null|                null|         null|                null|         null|                null|         null|                null|         null|                null|         null|                null|         null|                null|         null|                 100|           20|                 100|            2|                 100|           67|                 100|           32|                null|         null|                 100|            0|                 100|            0|                 100|            0|                 200|            0|                null|         null|                null|         null|                null|         null|                 100|     50593793|                  95|         2280|                 100|            0|                 100|            0|                null|         null|                 100|          533|                null|         null|                null|         null|                null|         null|                null|         null|                 100|            0|                null|         null|                null|         null|                null|         null|                null|         null|                null|         null|                null|         null|                null|         null|\n",
      "|2019-01-06 00:00:00| 88P0A02SF97G|TOSHIBA MG07ACA14TA|14000519643136|      0|               100|          0|               100|          0|               100|       7805|               100|          2|               100|          0|               100|          0|               100|          0|                95|       2293|                100|           0|               null|        null|                100|           2|               null|        null|               null|        null|               null|        null|               null|        null|               null|        null|                100|           0|                100|           0|                null|         null|                null|         null|                null|         null|                null|         null|                null|         null|                null|         null|                null|         null|                null|         null|                null|         null|                null|         null|                null|         null|                null|         null|                null|         null|                null|         null|                 100|            0|                 100|            1|                 100|           46|                 100|           32|                null|         null|                 100|            0|                 100|            0|                 100|            0|                 200|            0|                null|         null|                null|         null|                null|         null|                 100|      2097152|                  95|         2276|                 100|            0|                 100|            0|                null|         null|                 100|          528|                null|         null|                null|         null|                null|         null|                null|         null|                 100|            0|                null|         null|                null|         null|                null|         null|                null|         null|                null|         null|                null|         null|                null|         null|\n",
      "|2019-01-06 00:00:00| 68R0A07XF97G|TOSHIBA MG07ACA14TA|14000519643136|      0|               100|          0|               100|          0|               100|       7841|               100|          4|               100|          0|               100|          0|               100|          0|                95|       2289|                100|           0|               null|        null|                100|           4|               null|        null|               null|        null|               null|        null|               null|        null|               null|        null|                100|           0|                100|           0|                null|         null|                null|         null|                null|         null|                null|         null|                null|         null|                null|         null|                null|         null|                null|         null|                null|         null|                null|         null|                null|         null|                null|         null|                null|         null|                null|         null|                 100|            0|                 100|            3|                 100|           46|                 100|           26|                null|         null|                 100|            0|                 100|            0|                 100|            0|                 200|            0|                null|         null|                null|         null|                null|         null|                 100|    135659522|                  95|         2270|                 100|            0|                 100|            0|                null|         null|                 100|          530|                null|         null|                null|         null|                null|         null|                null|         null|                 100|            0|                null|         null|                null|         null|                null|         null|                null|         null|                null|         null|                null|         null|                null|         null|\n",
      "|2019-01-06 00:00:00| 88P0A08SF97G|TOSHIBA MG07ACA14TA|14000519643136|      0|               100|          0|               100|          0|               100|       7774|               100|          2|               100|          0|               100|          0|               100|          0|                95|       2292|                100|           0|               null|        null|                100|           2|               null|        null|               null|        null|               null|        null|               null|        null|               null|        null|                100|           0|                100|           0|                null|         null|                null|         null|                null|         null|                null|         null|                null|         null|                null|         null|                null|         null|                null|         null|                null|         null|                null|         null|                null|         null|                null|         null|                null|         null|                null|         null|                 100|            0|                 100|            1|                 100|           47|                 100|           32|                null|         null|                 100|            0|                 100|            0|                 100|            0|                 200|            0|                null|         null|                null|         null|                null|         null|                 100|     68419585|                  95|         2275|                 100|            0|                 100|            0|                null|         null|                 100|          533|                null|         null|                null|         null|                null|         null|                null|         null|                 100|            0|                null|         null|                null|         null|                null|         null|                null|         null|                null|         null|                null|         null|                null|         null|\n",
      "|2019-01-06 00:00:00| 78B0A079F97G|TOSHIBA MG07ACA14TA|14000519643136|      0|               100|          0|               100|          0|               100|       7959|               100|          2|               100|          0|               100|          0|               100|          0|                95|       2311|                100|           0|               null|        null|                100|           2|               null|        null|               null|        null|               null|        null|               null|        null|               null|        null|                100|           0|                100|           0|                null|         null|                null|         null|                null|         null|                null|         null|                null|         null|                null|         null|                null|         null|                null|         null|                null|         null|                null|         null|                null|         null|                null|         null|                null|         null|                null|         null|                 100|            0|                 100|            1|                 100|           62|                 100|           28|                null|         null|                 100|            0|                 100|            0|                 100|            0|                 200|            0|                null|         null|                null|         null|                null|         null|                 100|    268435457|                  95|         2278|                 100|            0|                 100|            0|                null|         null|                 100|          535|                null|         null|                null|         null|                null|         null|                null|         null|                 100|            0|                null|         null|                null|         null|                null|         null|                null|         null|                null|         null|                null|         null|                null|         null|\n",
      "|2019-01-06 00:00:00| 88Q0A0LGF97G|TOSHIBA MG07ACA14TA|14000519643136|      0|               100|          0|               100|          0|               100|       7795|               100|          2|               100|          0|               100|          0|               100|          0|                95|       2291|                100|           0|               null|        null|                100|           2|               null|        null|               null|        null|               null|        null|               null|        null|               null|        null|                100|           0|                100|           0|                null|         null|                null|         null|                null|         null|                null|         null|                null|         null|                null|         null|                null|         null|                null|         null|                null|         null|                null|         null|                null|         null|                null|         null|                null|         null|                null|         null|                 100|            0|                 100|            0|                 100|           37|                 100|           25|                null|         null|                 100|            0|                 100|            0|                 100|            0|                 200|            0|                null|         null|                null|         null|                null|         null|                 100|     33554433|                  95|         2277|                 100|            0|                 100|            0|                null|         null|                 100|          587|                null|         null|                null|         null|                null|         null|                null|         null|                 100|            0|                null|         null|                null|         null|                null|         null|                null|         null|                null|         null|                null|         null|                null|         null|\n",
      "|2019-01-06 00:00:00| 78C0A049F97G|TOSHIBA MG07ACA14TA|14000519643136|      0|               100|          0|               100|          0|               100|       7703|               100|          4|               100|          0|               100|          0|               100|          0|                95|       2288|                100|           0|               null|        null|                100|           4|               null|        null|               null|        null|               null|        null|               null|        null|               null|        null|                100|           0|                100|           0|                null|         null|                null|         null|                null|         null|                null|         null|                null|         null|                null|         null|                null|         null|                null|         null|                null|         null|                null|         null|                null|         null|                null|         null|                null|         null|                null|         null|                 100|            1|                 100|            3|                 100|           41|                 100|           23|                null|         null|                 100|            0|                 100|            0|                 100|            0|                 200|            0|                null|         null|                null|         null|                null|         null|                 100|    151126021|                  95|         2268|                 100|            0|                 100|            0|                null|         null|                 100|          533|                null|         null|                null|         null|                null|         null|                null|         null|                 100|            0|                null|         null|                null|         null|                null|         null|                null|         null|                null|         null|                null|         null|                null|         null|\n",
      "|2019-01-06 00:00:00| 88P0A0JVF97G|TOSHIBA MG07ACA14TA|14000519643136|      0|               100|          0|               100|          0|               100|       7954|               100|          4|               100|          0|               100|          0|               100|          0|                95|       2316|                100|           0|               null|        null|                100|           4|               null|        null|               null|        null|               null|        null|               null|        null|               null|        null|                100|           0|                100|           0|                null|         null|                null|         null|                null|         null|                null|         null|                null|         null|                null|         null|                null|         null|                null|         null|                null|         null|                null|         null|                null|         null|                null|         null|                null|         null|                null|         null|                 100|            0|                 100|            2|                 100|           77|                 100|           32|                null|         null|                 100|            0|                 100|            0|                 100|            0|                 200|            0|                null|         null|                null|         null|                null|         null|                 100|     17301505|                  95|         2285|                 100|            0|                 100|            0|                null|         null|                 100|          587|                null|         null|                null|         null|                null|         null|                null|         null|                 100|            0|                null|         null|                null|         null|                null|         null|                null|         null|                null|         null|                null|         null|                null|         null|\n",
      "|2019-01-06 00:00:00| 88Q0A06VF97G|TOSHIBA MG07ACA14TA|14000519643136|      0|               100|          0|               100|          0|               100|       2596|               100|          2|               100|          0|               100|          0|               100|          0|                95|       2310|                100|           0|               null|        null|                100|           2|               null|        null|               null|        null|               null|        null|               null|        null|               null|        null|                100|           0|                100|           0|                null|         null|                null|         null|                null|         null|                null|         null|                null|         null|                null|         null|                null|         null|                null|         null|                null|         null|                null|         null|                null|         null|                null|         null|                null|         null|                null|         null|                 100|            0|                 100|            1|                 100|           75|                 100|           33|                null|         null|                 100|            0|                 100|            0|                 100|            0|                 200|            0|                null|         null|                null|         null|                null|         null|                 100|     51511298|                  95|         2279|                 100|            0|                 100|            0|                null|         null|                 100|          532|                null|         null|                null|         null|                null|         null|                null|         null|                 100|            0|                null|         null|                null|         null|                null|         null|                null|         null|                null|         null|                null|         null|                null|         null|\n",
      "|2019-01-06 00:00:00| 78C0A01MF97G|TOSHIBA MG07ACA14TA|14000519643136|      0|               100|          0|               100|          0|               100|       7561|               100|          1|               100|          0|               100|          0|               100|          0|                95|       2311|                100|           0|               null|        null|                100|           1|               null|        null|               null|        null|               null|        null|               null|        null|               null|        null|                100|           0|                100|           0|                null|         null|                null|         null|                null|         null|                null|         null|                null|         null|                null|         null|                null|         null|                null|         null|                null|         null|                null|         null|                null|         null|                null|         null|                null|         null|                null|         null|                 100|            0|                 100|            0|                 100|           59|                 100|           22|                null|         null|                 100|            0|                 100|            0|                 100|            0|                 200|            0|                null|         null|                null|         null|                null|         null|                 100|    220332034|                  95|         2279|                 100|            0|                 100|            0|                null|         null|                 100|          535|                null|         null|                null|         null|                null|         null|                null|         null|                 100|            0|                null|         null|                null|         null|                null|         null|                null|         null|                null|         null|                null|         null|                null|         null|\n",
      "|2019-01-06 00:00:00| 88R0A01SF97G|TOSHIBA MG07ACA14TA|14000519643136|      0|               100|          0|               100|          0|               100|       7733|               100|          3|               100|          0|               100|          0|               100|          0|                95|       2309|                100|           0|               null|        null|                100|           3|               null|        null|               null|        null|               null|        null|               null|        null|               null|        null|                100|           0|                100|           0|                null|         null|                null|         null|                null|         null|                null|         null|                null|         null|                null|         null|                null|         null|                null|         null|                null|         null|                null|         null|                null|         null|                null|         null|                null|         null|                null|         null|                 100|            0|                 100|            2|                 100|           62|                 100|           30|                null|         null|                 100|            0|                 100|            0|                 100|            0|                 200|            0|                null|         null|                null|         null|                null|         null|                 100|     34340865|                  95|         2278|                 100|            0|                 100|            0|                null|         null|                 100|          534|                null|         null|                null|         null|                null|         null|                null|         null|                 100|            0|                null|         null|                null|         null|                null|         null|                null|         null|                null|         null|                null|         null|                null|         null|\n",
      "|2019-01-06 00:00:00| 78B0A033F97G|TOSHIBA MG07ACA14TA|14000519643136|      0|               100|          0|               100|          0|               100|       7928|               100|          2|               100|          0|               100|          0|               100|          0|                95|       2287|                100|           0|               null|        null|                100|           2|               null|        null|               null|        null|               null|        null|               null|        null|               null|        null|                100|           0|                100|           0|                null|         null|                null|         null|                null|         null|                null|         null|                null|         null|                null|         null|                null|         null|                null|         null|                null|         null|                null|         null|                null|         null|                null|         null|                null|         null|                null|         null|                 100|            0|                 100|            0|                 100|           41|                 100|           35|                null|         null|                 100|            0|                 100|            0|                 100|            0|                 200|            0|                null|         null|                null|         null|                null|         null|                 100|    185466884|                  95|         2273|                 100|            0|                 100|            0|                null|         null|                 100|          531|                null|         null|                null|         null|                null|         null|                null|         null|                 100|            0|                null|         null|                null|         null|                null|         null|                null|         null|                null|         null|                null|         null|                null|         null|\n",
      "|2019-01-06 00:00:00| 88R0A00XF97G|TOSHIBA MG07ACA14TA|14000519643136|      0|               100|          0|               100|          0|               100|       7782|               100|          2|               100|          0|               100|          0|               100|          0|                95|       2293|                100|           0|               null|        null|                100|           2|               null|        null|               null|        null|               null|        null|               null|        null|               null|        null|                100|           0|                100|           0|                null|         null|                null|         null|                null|         null|                null|         null|                null|         null|                null|         null|                null|         null|                null|         null|                null|         null|                null|         null|                null|         null|                null|         null|                null|         null|                null|         null|                 100|           20|                 100|            0|                 100|           39|                 100|           32|                null|         null|                 100|            0|                 100|            0|                 100|            0|                 200|            0|                null|         null|                null|         null|                null|         null|                 100|    117702657|                  95|         2279|                 100|            0|                 100|            0|                null|         null|                 100|          537|                null|         null|                null|         null|                null|         null|                null|         null|                 100|            0|                null|         null|                null|         null|                null|         null|                null|         null|                null|         null|                null|         null|                null|         null|\n",
      "|2019-01-06 00:00:00| 78C0A03HF97G|TOSHIBA MG07ACA14TA|14000519643136|      0|               100|          0|               100|          0|               100|       7919|               100|          1|               100|          0|               100|          0|               100|          0|                95|       2288|                100|           0|               null|        null|                100|           1|               null|        null|               null|        null|               null|        null|               null|        null|               null|        null|                100|           0|                100|           0|                null|         null|                null|         null|                null|         null|                null|         null|                null|         null|                null|         null|                null|         null|                null|         null|                null|         null|                null|         null|                null|         null|                null|         null|                null|         null|                null|         null|                 100|            0|                 100|            0|                 100|           46|                 100|           28|                null|         null|                 100|            0|                 100|            0|                 100|            0|                 200|            0|                null|         null|                null|         null|                null|         null|                 100|     18743297|                  95|         2275|                 100|            0|                 100|            0|                null|         null|                 100|          536|                null|         null|                null|         null|                null|         null|                null|         null|                 100|            0|                null|         null|                null|         null|                null|         null|                null|         null|                null|         null|                null|         null|                null|         null|\n",
      "+-------------------+-------------+-------------------+--------------+-------+------------------+-----------+------------------+-----------+------------------+-----------+------------------+-----------+------------------+-----------+------------------+-----------+------------------+-----------+------------------+-----------+-------------------+------------+-------------------+------------+-------------------+------------+-------------------+------------+-------------------+------------+-------------------+------------+-------------------+------------+-------------------+------------+-------------------+------------+-------------------+------------+--------------------+-------------+--------------------+-------------+--------------------+-------------+--------------------+-------------+--------------------+-------------+--------------------+-------------+--------------------+-------------+--------------------+-------------+--------------------+-------------+--------------------+-------------+--------------------+-------------+--------------------+-------------+--------------------+-------------+--------------------+-------------+--------------------+-------------+--------------------+-------------+--------------------+-------------+--------------------+-------------+--------------------+-------------+--------------------+-------------+--------------------+-------------+--------------------+-------------+--------------------+-------------+--------------------+-------------+--------------------+-------------+--------------------+-------------+--------------------+-------------+--------------------+-------------+--------------------+-------------+--------------------+-------------+--------------------+-------------+--------------------+-------------+--------------------+-------------+--------------------+-------------+--------------------+-------------+--------------------+-------------+--------------------+-------------+--------------------+-------------+--------------------+-------------+--------------------+-------------+--------------------+-------------+--------------------+-------------+--------------------+-------------+--------------------+-------------+\n",
      "only showing top 20 rows\n",
      "\n"
     ]
    }
   ],
   "source": [
    "print(\"Sort the first 20 rows by columns 'capacity_bytes' and 'model': \")\n",
    "df1 = df.orderBy([\"capacity_bytes\", \"model\"], ascending = [0,1]).show(20)\n",
    "df1\n"
   ]
  },
  {
   "cell_type": "markdown",
   "metadata": {},
   "source": [
    "# Q2 d)."
   ]
  },
  {
   "cell_type": "code",
   "execution_count": 36,
   "metadata": {},
   "outputs": [
    {
     "name": "stdout",
     "output_type": "stream",
     "text": [
      "total number of rows in dataframe:\n"
     ]
    },
    {
     "data": {
      "text/plain": [
       "9577046"
      ]
     },
     "execution_count": 36,
     "metadata": {},
     "output_type": "execute_result"
    }
   ],
   "source": [
    "print('total number of rows in dataframe:')\n",
    "df.count()"
   ]
  },
  {
   "cell_type": "markdown",
   "metadata": {},
   "source": [
    "# Q2 e) "
   ]
  },
  {
   "cell_type": "code",
   "execution_count": 47,
   "metadata": {},
   "outputs": [
    {
     "name": "stdout",
     "output_type": "stream",
     "text": [
      "Count the total number of rows, grouped by capacity:\n"
     ]
    },
    {
     "data": {
      "text/plain": [
       "16"
      ]
     },
     "execution_count": 47,
     "metadata": {},
     "output_type": "execute_result"
    }
   ],
   "source": [
    "print('Count the total number of rows, grouped by capacity:')\n",
    "df.groupBy(\"capacity_bytes\").count().count()"
   ]
  },
  {
   "cell_type": "markdown",
   "metadata": {},
   "source": [
    "# Q2 f)."
   ]
  },
  {
   "cell_type": "code",
   "execution_count": 50,
   "metadata": {},
   "outputs": [
    {
     "name": "stdout",
     "output_type": "stream",
     "text": [
      "Get the dataframe summary statistics:\n",
      "+-------+----------------+------------+--------------------+--------------------+------------------+-------------------+------------------+-----------------+------------------+------------------+-------------------+------------------+------------------+------------------+------------------+--------------------+------------------+----------------+------------------+------------------+-------------------+------------------+-------------------+-----------------+--------------------+------------------+-------------------+------------+-------------------+------------+-------------------+-----------------+-------------------+-----------------+-------------------+------------------+-------------------+------------+--------------------+------------+--------------------+-------------+--------------------+-----------------+--------------------+-------------------+--------------------+------------------+--------------------+------------------+--------------------+-------------+--------------------+-------------+--------------------+-------------+--------------------+------------------+--------------------+--------------------+--------------------+-------------------+--------------------+-------------------+--------------------+-----------------+--------------------+-----------------+--------------------+------------------+--------------------+------------------+--------------------+------------------+--------------------+------------------+--------------------+--------------------+--------------------+-------------------+--------------------+-----------------+--------------------+-------------------+--------------------+------------------+--------------------+------------------+--------------------+-------------+--------------------+-------------+--------------------+-------------------+--------------------+-----------------+--------------------+------------------+--------------------+-------------+--------------------+------------------+--------------------+------------------+--------------------+--------------------+--------------------+--------------------+--------------------+------------------+--------------------+-------------------+--------------------+--------------------+--------------------+--------------------+--------------------+--------------------+--------------------+--------------------+--------------------+-----------------+--------------------+-------------+--------------------+-------------+--------------------+-------------+\n",
      "|summary|   serial_number|       model|      capacity_bytes|             failure|smart_1_normalized|        smart_1_raw|smart_2_normalized|      smart_2_raw|smart_3_normalized|       smart_3_raw| smart_4_normalized|       smart_4_raw|smart_5_normalized|       smart_5_raw|smart_7_normalized|         smart_7_raw|smart_8_normalized|     smart_8_raw|smart_9_normalized|       smart_9_raw|smart_10_normalized|      smart_10_raw|smart_11_normalized|     smart_11_raw| smart_12_normalized|      smart_12_raw|smart_13_normalized|smart_13_raw|smart_15_normalized|smart_15_raw|smart_16_normalized|     smart_16_raw|smart_17_normalized|     smart_17_raw|smart_22_normalized|      smart_22_raw|smart_23_normalized|smart_23_raw| smart_24_normalized|smart_24_raw|smart_168_normalized|smart_168_raw|smart_170_normalized|    smart_170_raw|smart_173_normalized|      smart_173_raw|smart_174_normalized|     smart_174_raw|smart_177_normalized|     smart_177_raw|smart_179_normalized|smart_179_raw|smart_181_normalized|smart_181_raw|smart_182_normalized|smart_182_raw|smart_183_normalized|     smart_183_raw|smart_184_normalized|       smart_184_raw|smart_187_normalized|      smart_187_raw|smart_188_normalized|      smart_188_raw|smart_189_normalized|    smart_189_raw|smart_190_normalized|    smart_190_raw|smart_191_normalized|     smart_191_raw|smart_192_normalized|     smart_192_raw|smart_193_normalized|     smart_193_raw|smart_194_normalized|     smart_194_raw|smart_195_normalized|       smart_195_raw|smart_196_normalized|      smart_196_raw|smart_197_normalized|    smart_197_raw|smart_198_normalized|      smart_198_raw|smart_199_normalized|     smart_199_raw|smart_200_normalized|     smart_200_raw|smart_201_normalized|smart_201_raw|smart_218_normalized|smart_218_raw|smart_220_normalized|      smart_220_raw|smart_222_normalized|    smart_222_raw|smart_223_normalized|     smart_223_raw|smart_224_normalized|smart_224_raw|smart_225_normalized|     smart_225_raw|smart_226_normalized|     smart_226_raw|smart_231_normalized|       smart_231_raw|smart_232_normalized|       smart_232_raw|smart_233_normalized|     smart_233_raw|smart_235_normalized|      smart_235_raw|smart_240_normalized|       smart_240_raw|smart_241_normalized|       smart_241_raw|smart_242_normalized|       smart_242_raw|smart_250_normalized|       smart_250_raw|smart_251_normalized|    smart_251_raw|smart_252_normalized|smart_252_raw|smart_254_normalized|smart_254_raw|smart_255_normalized|smart_255_raw|\n",
      "+-------+----------------+------------+--------------------+--------------------+------------------+-------------------+------------------+-----------------+------------------+------------------+-------------------+------------------+------------------+------------------+------------------+--------------------+------------------+----------------+------------------+------------------+-------------------+------------------+-------------------+-----------------+--------------------+------------------+-------------------+------------+-------------------+------------+-------------------+-----------------+-------------------+-----------------+-------------------+------------------+-------------------+------------+--------------------+------------+--------------------+-------------+--------------------+-----------------+--------------------+-------------------+--------------------+------------------+--------------------+------------------+--------------------+-------------+--------------------+-------------+--------------------+-------------+--------------------+------------------+--------------------+--------------------+--------------------+-------------------+--------------------+-------------------+--------------------+-----------------+--------------------+-----------------+--------------------+------------------+--------------------+------------------+--------------------+------------------+--------------------+------------------+--------------------+--------------------+--------------------+-------------------+--------------------+-----------------+--------------------+-------------------+--------------------+------------------+--------------------+------------------+--------------------+-------------+--------------------+-------------+--------------------+-------------------+--------------------+-----------------+--------------------+------------------+--------------------+-------------+--------------------+------------------+--------------------+------------------+--------------------+--------------------+--------------------+--------------------+--------------------+------------------+--------------------+-------------------+--------------------+--------------------+--------------------+--------------------+--------------------+--------------------+--------------------+--------------------+--------------------+-----------------+--------------------+-------------+--------------------+-------------+--------------------+-------------+\n",
      "|  count|         9577046|     9577046|             9577046|             9577046|           9575512|            9575512|           2119850|          2119850|           9573683|           9573683|            9573683|           9573683|           9573683|           9573683|           9573683|             9573683|           2119850|         2119850|           9575512|           9575512|            9573683|           9573683|             109638|           109638|             9575512|           9575512|                  0|           0|                  0|           0|               1829|             1829|               1829|             1829|             368253|            368253|             109378|      109378|              109378|      109378|                1829|         1829|                1829|             1829|                1829|               1829|                1829|              1829|                1829|              1829|                   0|            0|                   0|            0|                   0|            0|             2130339|           2130339|             4440134|             4440134|             7394928|            7394928|             7394928|            7394928|             4440134|          4440134|             7394928|          7394928|             4711032|           4711032|             9575456|           9575456|             9522894|           9522894|             9575512|           9575512|             5436922|             5436922|             2178755|            2178755|             9573683|          9573683|             9573683|            9573683|             9573683|           9573683|             3172987|           3172987|                   0|            0|                1829|         1829|              208315|             208315|              208315|           208315|              273088|            273088|              208315|       208315|               50733|             50733|              208315|            208315|                1829|                1829|                1829|                1829|                1829|              1829|                1829|               1829|             7610141|             7610141|             7411779|             7411779|             7411779|             7411779|                  85|                  85|                  85|               85|                  85|           85|               15628|        15628|                   0|            0|\n",
      "|   mean|            null|        null|7.804058925479401E12|4.636085072578747...| 93.01237061788446|9.486098451047902E7|129.35408543057292|78.00450928131707| 97.34289029624232| 208.0281289865144|  99.99849524994717| 8.138458731086041|101.41666357659847| 7.513228503596787| 90.95698614629292|1.6845307911815567E9|114.40027218906998|30.6202070901243|  84.4578955151432|17119.239885762767| 100.79791121139064|24.466731768745632|  99.80868859337092|397.5867126361298|   99.99999248081983| 5.764923275120954|               null|        null|               null|        null|              100.0|92.37725533078185|              100.0|92.37725533078185|  99.99243726459798| 99.99243726459798|              100.0|         0.0|   99.99995428696813|         0.0|               100.0|          0.0|               100.0|541.3012575177693|               100.0|4.295296613921815E9|               100.0|1.6839803171131766|                 0.0| 2.049207217058502|                null|         null|                null|         null|                null|         null|   99.12698730108212| 3.028426461703982|   99.99806244586313|0.001937554136879...|    99.9354999805272|0.06992928125872219|   99.99999945908871| 1.19941028306699E8|    99.1430711325379|6.557256605318669|   70.74429014048548|29.25570985951452|   94.92514421468587|12075.168519339288|  101.00224407067402|176.31803237360185|   94.30057039383196|13926.684244096385|    66.2252751602212|29.233085186463136|   63.90782339713537|1.2197525688505077E8|  106.23151662302554|0.42250000573722146|  101.41842058066891|0.095898516798603|  100.80883187797214|0.09126351896130257|  199.99039993281582|0.4133412397297884|  100.00947057142055|3959.9077364640953|                null|         null|               100.0|          0.0|               100.0|4.046807521693109E7|   77.51878645320788|9192.997969421309|   99.92319325638621|159.62111846730724|               100.0|          0.0|   67.18853606134074|379333.55630457494|               100.0| 412.4791493651441|               100.0|1.099511627776999...|               100.0|3.870026190541192E11|               100.0|2827.3012575177695|               100.0|5.930354638241662E9|   99.96112450478907| 9.94288203492587E11|  100.01324918079722|4.409769927429327...|  100.01324918079722|9.927751756761423E10|                 1.0|1.0934246964705883E7|  26.623529411764707|48716.97647058823|               100.0|          0.0|  106.28359355003839|          0.0|                null|         null|\n",
      "| stddev|            null|        null|3.573331210943868E12|0.006808722805189957|17.258726229128563|8.061669233654504E7|23.649912697962947|44.25979318248232|11.038323425783553|1022.4281920050031|0.12164830819683842|128.20421558898454|13.492537157490005|371.44300467655853|15.456738401390538|5.065144563619813...|22.619241364347097| 18.008463094634|12.812503678965765| 10280.49250312878| 11.038850776716567|1875.9792156359458|  0.615628427269112|748.5207068634287|0.002742102190401914|12.421429608005482|               null|        null|               null|        null|                0.0|31.07238754835249|                0.0|31.07238754835249| 0.4725154515739213|0.4725154515739213|                0.0|         0.0|0.012466901766585787|         0.0|                 0.0|          0.0|                 0.0|474.3083095858445|                 0.0| 301743.26194526703|                 0.0|0.8540483536791111|                 0.0|1.5171469521551502|                null|         null|                null|         null|                null|         null|   5.844404713314862|239.51579994922236|  0.2630148878665628|  0.2630148878665635|  1.0427906085694716|  3.538318207289808|7.354665625435782E-4|3.604996447445658E9|    5.49302090579853| 512.821345685991|   6.202509342994996|6.202509342995006|  14.553098210329384| 42209.12703132275|  11.492553783776042|1145.2735822446555|  16.679520874937786| 36175.17936494699|   71.88446893612301| 5.837206112616276|   31.95804210848079| 7.126226124139664E7|  27.749717257594696| 16.421639249801313|  13.475985586755163|4.779867023458557|  11.050786091840234|  4.769852113803595|   0.979710445652009|22.714906655577874|  1.0495341110151075|39686.847455918134|                null|         null|                 0.0|          0.0|                 0.0|7.164763548342921E7|  22.467830096712866|8985.364515397956|  0.4011885989824271| 512.7601318376535|                 0.0|          0.0|   32.52830197179741|439477.48458122334|                 0.0|153.74493230958888|                 0.0| 0.40152124804646033|                 0.0|1.715677603651008E10|                 0.0| 2103.925261250338|                 0.0|4.412229659357207E9|  1.3419972871063546|1.361161482603071...|  1.1509746815914124|1.368967332486977E10|  1.1509746815914124|2.367608270128784...|                 0.0|   9924276.022328952|   43.61819641873709|44201.93735841829|                 0.0|          0.0|  24.267539849147393|          0.0|                null|         null|\n",
      "|    min|13a2651c44500010| DELLBOSS VD|                  -1|                   0|                49|                  0|                86|                0|                79|                 0|                 75|                 1|                31|                 0|                55|                   0|               100|               0|                11|                 0|                 15|                 0|                 89|                0|                  99|                 0|               null|        null|               null|        null|                100|               62|                100|               62|                 44|                44|                100|           0|                  96|           0|                 100|            0|                 100|              165|                 100|         4294967297|                 100|                 1|                   0|                 0|                null|         null|                null|         null|                null|         null|                   1|                 0|                  28|                   0|                   1|                  0|                  99|                  0|                   1|                0|                  40|               14|                   1|                 0|                  46|                 0|                   1|                 1|                  14|                13|                   1|                   0|                  12|                  0|                  61|                0|                  61|                  0|                 100|                 0|                   1|                 0|                null|         null|                 100|            0|                 100|                  0|                  11|                0|                  89|                 0|                 100|            0|                   1|             34357|                 100|               159|                 100|     109951162777698|                 100|        279172874240|                 100|               483|                 100|         1014850560|                  29|                   0|                 100|                   0|                 100|                   1|                   1|               75474|                   1|              304|                 100|            0|                 100|            0|                null|         null|\n",
      "|    max|ef29e2d545380010|WDC WD60EFRX|      14000519643136|                   1|               200|          658711803|               252|             1061|               253|             11042|                100|             25126|               252|             65288|               252|      11010253530213|               252|              45|               100|             70770|                252|           1114112|                100|            12005|                 100|              1232|               null|        null|               null|        null|                100|              171|                100|              171|                100|               100|                100|           0|                 100|           0|                 100|            0|                 100|             1979|                 100|         4296736851|                 100|                 4|                   0|                 8|                null|         null|                null|         null|                null|         null|                 100|             37728|                 100|                  72|                 100|               2165|                 100|       601305711020|                 100|            65535|                  86|               60|                 252|           4851526|                 252|             65535|                 200|           1113237|                 253|                60|                 118|           244140624|                 252|               1759|                 252|             6536|                 252|               6536|                 200|              4139|                 200|           1017494|                null|         null|                 100|            0|                 100|          287440902|                 100|            35802|                 100|             12005|                 100|            0|                  97|           2400689|                 100|               648|                 100|     109951162777700|                 100|        420906795008|                 100|             13596|                 100|        28513360544|                 100|     281462091830826|                 200|        184992317136|                 200|      32388150219856|                   1|            34308402|                 100|           125565|                 100|            0|                 200|            0|                null|         null|\n",
      "+-------+----------------+------------+--------------------+--------------------+------------------+-------------------+------------------+-----------------+------------------+------------------+-------------------+------------------+------------------+------------------+------------------+--------------------+------------------+----------------+------------------+------------------+-------------------+------------------+-------------------+-----------------+--------------------+------------------+-------------------+------------+-------------------+------------+-------------------+-----------------+-------------------+-----------------+-------------------+------------------+-------------------+------------+--------------------+------------+--------------------+-------------+--------------------+-----------------+--------------------+-------------------+--------------------+------------------+--------------------+------------------+--------------------+-------------+--------------------+-------------+--------------------+-------------+--------------------+------------------+--------------------+--------------------+--------------------+-------------------+--------------------+-------------------+--------------------+-----------------+--------------------+-----------------+--------------------+------------------+--------------------+------------------+--------------------+------------------+--------------------+------------------+--------------------+--------------------+--------------------+-------------------+--------------------+-----------------+--------------------+-------------------+--------------------+------------------+--------------------+------------------+--------------------+-------------+--------------------+-------------+--------------------+-------------------+--------------------+-----------------+--------------------+------------------+--------------------+-------------+--------------------+------------------+--------------------+------------------+--------------------+--------------------+--------------------+--------------------+--------------------+------------------+--------------------+-------------------+--------------------+--------------------+--------------------+--------------------+--------------------+--------------------+--------------------+--------------------+--------------------+-----------------+--------------------+-------------+--------------------+-------------+--------------------+-------------+\n",
      "\n"
     ]
    }
   ],
   "source": [
    "print('Get the dataframe summary statistics:')\n",
    "df.describe().show()"
   ]
  },
  {
   "cell_type": "markdown",
   "metadata": {},
   "source": [
    "# Q2 g)."
   ]
  },
  {
   "cell_type": "code",
   "execution_count": 52,
   "metadata": {},
   "outputs": [
    {
     "name": "stdout",
     "output_type": "stream",
     "text": [
      "Select the following columns: date, model, capacity\n",
      "+-------------------+--------------------+--------------+\n",
      "|               date|               model|capacity_bytes|\n",
      "+-------------------+--------------------+--------------+\n",
      "|2019-03-05 00:00:00|         ST4000DM000| 4000787030016|\n",
      "|2019-03-05 00:00:00|       ST12000NM0007|12000138625024|\n",
      "|2019-03-05 00:00:00|       ST12000NM0007|12000138625024|\n",
      "|2019-03-05 00:00:00|       ST12000NM0007|12000138625024|\n",
      "|2019-03-05 00:00:00|HGST HMS5C4040ALE640| 4000787030016|\n",
      "|2019-03-05 00:00:00|        ST8000NM0055| 8001563222016|\n",
      "|2019-03-05 00:00:00|       ST12000NM0007|12000138625024|\n",
      "|2019-03-05 00:00:00|       ST12000NM0007|12000138625024|\n",
      "|2019-03-05 00:00:00|       ST12000NM0007|12000138625024|\n",
      "|2019-03-05 00:00:00|        ST8000NM0055| 8001563222016|\n",
      "|2019-03-05 00:00:00|         ST4000DM000| 4000787030016|\n",
      "|2019-03-05 00:00:00|         ST8000DM002| 8001563222016|\n",
      "|2019-03-05 00:00:00|       ST12000NM0007|12000138625024|\n",
      "|2019-03-05 00:00:00|        ST8000NM0055| 8001563222016|\n",
      "|2019-03-05 00:00:00|       ST12000NM0007|12000138625024|\n",
      "|2019-03-05 00:00:00|HGST HMS5C4040ALE640| 4000787030016|\n",
      "|2019-03-05 00:00:00|HGST HMS5C4040BLE640| 4000787030016|\n",
      "|2019-03-05 00:00:00|HGST HMS5C4040BLE640| 4000787030016|\n",
      "|2019-03-05 00:00:00| TOSHIBA MG07ACA14TA|14000519643136|\n",
      "|2019-03-05 00:00:00|HGST HMS5C4040BLE640| 4000787030016|\n",
      "+-------------------+--------------------+--------------+\n",
      "only showing top 20 rows\n",
      "\n"
     ]
    }
   ],
   "source": [
    "print('Select the following columns: date, model, capacity')\n",
    "df.select(['date', 'model', 'capacity_bytes']).show()"
   ]
  },
  {
   "cell_type": "markdown",
   "metadata": {},
   "source": [
    "# Q2 h)."
   ]
  },
  {
   "cell_type": "code",
   "execution_count": 55,
   "metadata": {},
   "outputs": [
    {
     "name": "stdout",
     "output_type": "stream",
     "text": [
      "Select the number of distinct models:\n",
      "+--------------------+\n",
      "|               model|\n",
      "+--------------------+\n",
      "|         ST4000DM000|\n",
      "|       ST12000NM0007|\n",
      "|         ST8000DM005|\n",
      "|          ST320LT007|\n",
      "| TOSHIBA MQ01ABF050M|\n",
      "|        ST8000NM0055|\n",
      "|Seagate BarraCuda...|\n",
      "| TOSHIBA MG07ACA14TA|\n",
      "|        WDC WD60EFRX|\n",
      "|         ST8000DM002|\n",
      "|         ST4000DM005|\n",
      "|         DELLBOSS VD|\n",
      "|HGST HUS726040ALE610|\n",
      "|     TOSHIBA HDWF180|\n",
      "|HGST HMS5C4040ALE640|\n",
      "|HGST HUH721010ALE600|\n",
      "| TOSHIBA MD04ABA500V|\n",
      "| TOSHIBA MD04ABA400V|\n",
      "|       ST10000NM0086|\n",
      "|      WDC WD2500AAJS|\n",
      "+--------------------+\n",
      "only showing top 20 rows\n",
      "\n"
     ]
    }
   ],
   "source": [
    "print('Select the number of distinct models:')\n",
    "df.select(['model']).distinct().show()"
   ]
  },
  {
   "cell_type": "code",
   "execution_count": 56,
   "metadata": {},
   "outputs": [
    {
     "data": {
      "text/plain": [
       "49"
      ]
     },
     "execution_count": 56,
     "metadata": {},
     "output_type": "execute_result"
    }
   ],
   "source": [
    "df.select(['model']).distinct().count()"
   ]
  },
  {
   "cell_type": "markdown",
   "metadata": {},
   "source": [
    "# Q2 i)."
   ]
  },
  {
   "cell_type": "code",
   "execution_count": 58,
   "metadata": {},
   "outputs": [
    {
     "name": "stdout",
     "output_type": "stream",
     "text": [
      "+---------------------------------+-------+----+-----+----+----+-----+-----+-----+-----+-----+-----+------+-----+-----+------+------+------+------+------+------+-----+---+---+---+---+---+-----+---+---+---+---+---+---+---+---+---+---+---+---+---+---+----+----+-----+-----+-----+-----+-----+-----+-----+-----+-----+-----+------+------+------+------+------+------+------+------+------+---+---+---+---+---+---+---+---+---+---+---+---+---+---+----+----+\n",
      "|capacity_bytes_smart_1_normalized|    100| 101|  102| 103| 104|  105|  106|  107|  108|  109|  110|   111|  112|  113|   114|   115|   116|   117|   118|   119|  120|149|153|160|187|199|  200| 49| 50| 51| 53| 54| 55| 56| 57| 58| 59| 60| 61| 62| 63|  64|  65|   66|   67|   68|   69|   70|   71|   72|   73|   74|   75|    76|    77|    78|    79|    80|    81|    82|    83|    84| 85| 86| 87| 88| 89| 90| 91| 92| 93| 94| 95| 96| 97| 98|  99|null|\n",
      "+---------------------------------+-------+----+-----+----+----+-----+-----+-----+-----+-----+-----+------+-----+-----+------+------+------+------+------+------+-----+---+---+---+---+---+-----+---+---+---+---+---+---+---+---+---+---+---+---+---+---+----+----+-----+-----+-----+-----+-----+-----+-----+-----+-----+-----+------+------+------+------+------+------+------+------+------+---+---+---+---+---+---+---+---+---+---+---+---+---+---+----+----+\n",
      "|                    1000204886016|     90|   0|    0|   0|   0|    0|    0|    0|    0|    0|    0|     0|    0|    0|     0|     0|     0|     0|     0|     0|    0|  0|  0|  0|  0|  0|    0|  0|  0|  0|  0|  0|  0|  0|  0|  0|  0|  0|  0|  0|  0|   0|   0|    0|    0|    0|    0|    0|    0|    0|    0|    0|    0|     0|     0|     0|     0|     0|     0|     0|     0|     0|  0|  0|  0|  0|  0|  0|  0|  0|  0|  0|  0|  0|  0|  0|   0|   0|\n",
      "|                    5000981078016|   4050|   0|    0|   0|   0|    0|    0|    0|    0|    0|    0|     0|    0|    0|     0|     0|     0|     0|     0|     0|    0|  0|  0|  0|  0|  0|    0|  0|  0|  0|  0|  0|  0|  0|  0|  0|  0|  0|  0|  0|  0|   0|   0|    0|    0|    0|    0|    0|    0|    0|    0|    0|    0|     0|     0|     0|     0|     0|     0|     0|     0|     0|  0|  0|  0|  0|  0|  0|  0|  0|  0|  0|  0|  0|  0|  0|   0|   0|\n",
      "|                   10000831348736|   2331|   0|    0|   0|   0|    0|    0|    0|    0|    0|    0|     0|    0|    0|     0|     0|     0|     0|     0|     0|    0|  0|  0|  0|  0|  0|    0|  0|  0|  0|  0|  0|  0|  0|  0|  0|  0|  0|  0|  0|  0| 150| 330|  437|  489|  630|  824| 1033| 1289| 1613| 2083| 2585| 3205|  4105|  5176|  6478|  8242| 10203| 13075| 16082| 20490|  8950|  0|  0|  0|  0|  0|  0|  0|  0|  0|  0|  0|  0|  0|  0|   0|   0|\n",
      "|                    4000787030016|1507568|4330|12861|8606|8635|25562|17114|17060|51443|34169|33969|102392|68743|68276|204635|136554|136716|411097|273397|276065|91952|  0|  0|  0|  0|  0|   94|  0|  0|  0|  0|  0|  1|  0|  3|  3|  5|  2|  1|  3|  3|  11|  18|   23|   21|   51|   44|   58|   60|   90|  106|  133|  186|   234|   293|   298|   359|   476|   580|   792|   953|   441| 54|106| 13| 22| 31| 38| 50| 59| 77|138|214| 74|114|192|1815|   0|\n",
      "|                   12000138625024| 302079|   0|    0|   0|   0|    0|    0|    0|    0|    0|    0|     0|    0|    0|     0|     0|     0|     0|     0|     0|    0|  0|  0|  0|  0|  0|    0|  0|  0|  0|  0|  0|  0|  0|  0|  0|  0|  0|  0|  0|  0|4431|8743|10839|13455|17160|21458|26756|33890|42344|53362|68017|85123|107464|134405|169931|213669|269164|341630|433397|619913|250937|  1|  0|  1|  0|  0|  0|  1|  0|  0|  3|  6|  2|  3|  6|  14|   0|\n",
      "|                    2000398934016|    265|   0|    0|   0|   0|    0|    0|    0|    0|    0|    0|     0|    0|    0|     0|     0|     0|     0|     0|     0|    0|  0|  0|  0|  0|  0|    0|  0|  0|  0|  0|  0|  0|  0|  0|  0|  0|  0|  0|  0|  0|   0|   0|    0|    0|    0|    0|    0|    0|    0|    0|    0|    0|     0|     0|     0|     0|     0|     0|     0|     0|     0|  0|  0|  0|  0|  0|  0|  0|  0|  0|  0|  0|  0|  0|  0|   0|   0|\n",
      "|                     480036847616|      0|   0|    0|   0|   0|    0|    0|    0|    0|    0|    0|     0|    0|    0|     0|     0|     0|     0|     0|     0|    0|  0|  0|  0|  0|  0|    0|  0|  0|  0|  0|  0|  0|  0|  0|  0|  0|  0|  0|  0|  0|   0|   0|    0|    0|    0|    0|    0|    0|    0|    0|    0|    0|     0|     0|     0|     0|     0|     0|     0|     0|     0|  0|  0|  0|  0|  0|  0|  0|  0|  0|  0|  0|  0|  0|  0|   0| 540|\n",
      "|                    6001175126016|   4535| 280|  853| 563| 578| 1770| 1176| 1172| 3484| 2228| 2282|  6722| 4621| 4711| 13378|  9152|  8969| 27715| 18205| 18196| 5040|  0|  0|  0|  0|  3|30520|  0|  0|  0|  0|  0|  0|  0|  0|  0|  0|  0|  0|  0|  0|   4|   3|   15|   13|    8|   19|   23|   30|   34|   39|   42|   81|    72|    89|   209|   151|   198|   367|   343|   351|   135|  0|  0|  0|  0|  0|  0|  0|  0|  0|  0|  0|  0|  0|  0| 103|   0|\n",
      "|                     137438952960|      0|   0|    0|   0|   0|    0|    0|    0|    0|    0|    0|     0|    0|    0|     0|     0|     0|     0|     0|     0|    0|  0|  0|  0|  0|  0|    0|  0|  0|  0|  0|  0|  0|  0|  0|  0|  0|  0|  0|  0|  0|   0|   0|    0|    0|    0|    0|    0|    0|    0|    0|    0|    0|     0|     0|     0|     0|     0|     0|     0|     0|     0|  0|  0|  0|  0|  0|  0|  0|  0|  0|  0|  0|  0|  0|  0|   0|   1|\n",
      "|                     320072933376|      0|   0|    1|   0|   0|    1|    0|    0|    2|    3|    0|     2|    4|    4|    11|    10|    10|     8|     6|    18|    5|  0|  0|  0|  0|  0|   32|  0|  0|  0|  0|  0|  0|  0|  0|  0|  0|  0|  0|  0|  0|   0|   0|    0|    0|    0|    0|    0|    0|    0|    0|    0|    0|     0|     0|     0|     0|     0|     0|     0|     0|     0|  0|  0|  0|  0|  0|  0|  0|  0|  0|  0|  0|  0|  0|  0|   0|   0|\n",
      "|                    8001563222016| 125385|   0|    0|   0|   0|    0|    0|    0|    0|    0|    0|     0|    0|    0|     0|     0|     0|     0|     0|     0|    0|  0|  0|  0|  0|  0|    0|  1|  1|  1|  1|  4|  4|  3|  6|  5|  4|  8|  5| 13|  7|3374|6578| 8293|10440|13050|16450|20876|26182|32665|41152|52024|64959| 81712|103860|129615|163681|205235|259094|325116|410996|180169|  0|  0|  0|  0|  0|  0|  0|  0|  0|  0|  0|  0|  0|  0|   1|   0|\n",
      "|                               -1|      0|   0|    0|   0|   0|    0|    0|    0|    0|    0|    0|     0|    0|    0|     0|     0|     0|     0|     0|     0|    0|  0|  0|  0|  0|  0|    0|  0|  0|  0|  0|  0|  0|  0|  0|  0|  0|  0|  0|  0|  0|   0|   0|    0|    0|    0|    0|    0|    0|    0|    0|    0|    0|     0|     0|     0|     0|     0|     0|     0|     0|     0|  0|  0|  0|  0|  0|  0|  0|  0|  0|  0|  0|  0|  0|  0|   0| 993|\n",
      "|                     250059350016|     24|   0|    0|   0|   0|    0|    0|    0|    0|    0|    0|     0|    0|    0|     0|     0|     0|     0|     0|     0|    0|  0|  0|  0|  0|  0|   88|  0|  0|  0|  0|  0|  0|  0|  0|  0|  0|  0|  0|  0|  0|   0|   0|    0|    0|    0|    0|    0|    0|    0|    0|    0|    0|     0|     0|     0|     0|     0|     0|     0|     0|     0|  0|  0|  0|  0|  0|  0|  0|  0|  0|  0|  0|  0|  0|  0|   0|   0|\n",
      "|                     160041885696|      0|   0|    0|   1|   0|    3|    0|    0|    0|    0|    0|     2|    0|    0|     5|     7|     6|    11|     5|    10|    6|  0|  0|  0|  0|  0|  251|  0|  0|  0|  0|  0|  0|  0|  0|  0|  0|  0|  0|  0|  0|   0|   0|    0|    0|    0|    0|    0|    0|    0|    0|    0|    0|     0|     0|     0|     0|     0|     0|     0|     0|     0|  0|  0|  0|  0|  0|  0|  0|  0|  0|  0|  0|  0|  0|  0|   0|   0|\n",
      "|                   14000519643136| 109378|   0|    0|   0|   0|    0|    0|    0|    0|    0|    0|     0|    0|    0|     0|     0|     0|     0|     0|     0|    0|  0|  0|  0|  0|  0|    0|  0|  0|  0|  0|  0|  0|  0|  0|  0|  0|  0|  0|  0|  0|   0|   0|    0|    0|    0|    0|    0|    0|    0|    0|    0|    0|     0|     0|     0|     0|     0|     0|     0|     0|     0|  0|  0|  0|  0|  0|  0|  0|  0|  0|  0|  0|  0|  0|  0|   0|   0|\n",
      "|                     500107862016| 131918|   0|    0|   0|   0|    1|    0|    0|    1|    1|    0|     1|    1|    2|     1|    10|    11|    28|    15|     9|    1|  1|  1|  1|  1|  0|27913|  0|  0|  0|  0|  0|  0|  0|  0|  1|  0|  0|  1|  1|  2|  25|  36|   66|   51|   79|  108|  164|  173|  241|  287|  367|  440|   538|   708|   877|  1071|  1381|  1630|  2175|  2696|  1219|  0|  0|  0|  0|  0|  0|  0|  0|  0|  0|  0|  0|  0|  0|   0|   0|\n",
      "+---------------------------------+-------+----+-----+----+----+-----+-----+-----+-----+-----+-----+------+-----+-----+------+------+------+------+------+------+-----+---+---+---+---+---+-----+---+---+---+---+---+---+---+---+---+---+---+---+---+---+----+----+-----+-----+-----+-----+-----+-----+-----+-----+-----+-----+------+------+------+------+------+------+------+------+------+---+---+---+---+---+---+---+---+---+---+---+---+---+---+----+----+\n",
      "\n"
     ]
    }
   ],
   "source": [
    "df.select(['capacity_bytes','smart_1_normalized']).crosstab('capacity_bytes','smart_1_normalized').show()"
   ]
  },
  {
   "cell_type": "markdown",
   "metadata": {},
   "source": [
    "# Q2 j)."
   ]
  },
  {
   "cell_type": "code",
   "execution_count": 69,
   "metadata": {},
   "outputs": [
    {
     "name": "stdout",
     "output_type": "stream",
     "text": [
      "The mean value of column capacity:\n",
      "+-------+--------------------+\n",
      "|summary|      capacity_bytes|\n",
      "+-------+--------------------+\n",
      "|   mean|7.804058925479401E12|\n",
      "+-------+--------------------+\n",
      "\n"
     ]
    }
   ],
   "source": [
    "print('The mean value of column capacity:')\n",
    "df.select('capacity_bytes').summary('mean').show()"
   ]
  },
  {
   "cell_type": "code",
   "execution_count": 70,
   "metadata": {},
   "outputs": [],
   "source": [
    "#stop session"
   ]
  },
  {
   "cell_type": "code",
   "execution_count": 71,
   "metadata": {},
   "outputs": [],
   "source": [
    "spark.stop()"
   ]
  },
  {
   "cell_type": "code",
   "execution_count": 75,
   "metadata": {},
   "outputs": [
    {
     "name": "stdout",
     "output_type": "stream",
     "text": [
      "root\n",
      " |-- date: timestamp (nullable = true)\n",
      " |-- serial_number: string (nullable = true)\n",
      " |-- model: string (nullable = true)\n",
      " |-- capacity_bytes: long (nullable = true)\n",
      " |-- failure: integer (nullable = true)\n",
      " |-- smart_1_normalized: integer (nullable = true)\n",
      " |-- smart_1_raw: integer (nullable = true)\n",
      " |-- smart_2_normalized: integer (nullable = true)\n",
      " |-- smart_2_raw: integer (nullable = true)\n",
      " |-- smart_3_normalized: integer (nullable = true)\n",
      " |-- smart_3_raw: integer (nullable = true)\n",
      " |-- smart_4_normalized: integer (nullable = true)\n",
      " |-- smart_4_raw: integer (nullable = true)\n",
      " |-- smart_5_normalized: integer (nullable = true)\n",
      " |-- smart_5_raw: integer (nullable = true)\n",
      " |-- smart_7_normalized: integer (nullable = true)\n",
      " |-- smart_7_raw: long (nullable = true)\n",
      " |-- smart_8_normalized: integer (nullable = true)\n",
      " |-- smart_8_raw: integer (nullable = true)\n",
      " |-- smart_9_normalized: integer (nullable = true)\n",
      " |-- smart_9_raw: integer (nullable = true)\n",
      " |-- smart_10_normalized: integer (nullable = true)\n",
      " |-- smart_10_raw: integer (nullable = true)\n",
      " |-- smart_11_normalized: integer (nullable = true)\n",
      " |-- smart_11_raw: integer (nullable = true)\n",
      " |-- smart_12_normalized: integer (nullable = true)\n",
      " |-- smart_12_raw: integer (nullable = true)\n",
      " |-- smart_13_normalized: string (nullable = true)\n",
      " |-- smart_13_raw: string (nullable = true)\n",
      " |-- smart_15_normalized: string (nullable = true)\n",
      " |-- smart_15_raw: string (nullable = true)\n",
      " |-- smart_16_normalized: integer (nullable = true)\n",
      " |-- smart_16_raw: integer (nullable = true)\n",
      " |-- smart_17_normalized: integer (nullable = true)\n",
      " |-- smart_17_raw: integer (nullable = true)\n",
      " |-- smart_22_normalized: integer (nullable = true)\n",
      " |-- smart_22_raw: integer (nullable = true)\n",
      " |-- smart_23_normalized: integer (nullable = true)\n",
      " |-- smart_23_raw: integer (nullable = true)\n",
      " |-- smart_24_normalized: integer (nullable = true)\n",
      " |-- smart_24_raw: integer (nullable = true)\n",
      " |-- smart_168_normalized: integer (nullable = true)\n",
      " |-- smart_168_raw: integer (nullable = true)\n",
      " |-- smart_170_normalized: integer (nullable = true)\n",
      " |-- smart_170_raw: integer (nullable = true)\n",
      " |-- smart_173_normalized: integer (nullable = true)\n",
      " |-- smart_173_raw: long (nullable = true)\n",
      " |-- smart_174_normalized: integer (nullable = true)\n",
      " |-- smart_174_raw: integer (nullable = true)\n",
      " |-- smart_177_normalized: integer (nullable = true)\n",
      " |-- smart_177_raw: integer (nullable = true)\n",
      " |-- smart_179_normalized: string (nullable = true)\n",
      " |-- smart_179_raw: string (nullable = true)\n",
      " |-- smart_181_normalized: string (nullable = true)\n",
      " |-- smart_181_raw: string (nullable = true)\n",
      " |-- smart_182_normalized: string (nullable = true)\n",
      " |-- smart_182_raw: string (nullable = true)\n",
      " |-- smart_183_normalized: integer (nullable = true)\n",
      " |-- smart_183_raw: integer (nullable = true)\n",
      " |-- smart_184_normalized: integer (nullable = true)\n",
      " |-- smart_184_raw: integer (nullable = true)\n",
      " |-- smart_187_normalized: integer (nullable = true)\n",
      " |-- smart_187_raw: integer (nullable = true)\n",
      " |-- smart_188_normalized: integer (nullable = true)\n",
      " |-- smart_188_raw: long (nullable = true)\n",
      " |-- smart_189_normalized: integer (nullable = true)\n",
      " |-- smart_189_raw: integer (nullable = true)\n",
      " |-- smart_190_normalized: integer (nullable = true)\n",
      " |-- smart_190_raw: integer (nullable = true)\n",
      " |-- smart_191_normalized: integer (nullable = true)\n",
      " |-- smart_191_raw: integer (nullable = true)\n",
      " |-- smart_192_normalized: integer (nullable = true)\n",
      " |-- smart_192_raw: integer (nullable = true)\n",
      " |-- smart_193_normalized: integer (nullable = true)\n",
      " |-- smart_193_raw: integer (nullable = true)\n",
      " |-- smart_194_normalized: integer (nullable = true)\n",
      " |-- smart_194_raw: integer (nullable = true)\n",
      " |-- smart_195_normalized: integer (nullable = true)\n",
      " |-- smart_195_raw: integer (nullable = true)\n",
      " |-- smart_196_normalized: integer (nullable = true)\n",
      " |-- smart_196_raw: integer (nullable = true)\n",
      " |-- smart_197_normalized: integer (nullable = true)\n",
      " |-- smart_197_raw: integer (nullable = true)\n",
      " |-- smart_198_normalized: integer (nullable = true)\n",
      " |-- smart_198_raw: integer (nullable = true)\n",
      " |-- smart_199_normalized: integer (nullable = true)\n",
      " |-- smart_199_raw: integer (nullable = true)\n",
      " |-- smart_200_normalized: integer (nullable = true)\n",
      " |-- smart_200_raw: integer (nullable = true)\n",
      " |-- smart_201_normalized: string (nullable = true)\n",
      " |-- smart_201_raw: string (nullable = true)\n",
      " |-- smart_218_normalized: integer (nullable = true)\n",
      " |-- smart_218_raw: integer (nullable = true)\n",
      " |-- smart_220_normalized: integer (nullable = true)\n",
      " |-- smart_220_raw: integer (nullable = true)\n",
      " |-- smart_222_normalized: integer (nullable = true)\n",
      " |-- smart_222_raw: integer (nullable = true)\n",
      " |-- smart_223_normalized: integer (nullable = true)\n",
      " |-- smart_223_raw: integer (nullable = true)\n",
      " |-- smart_224_normalized: integer (nullable = true)\n",
      " |-- smart_224_raw: integer (nullable = true)\n",
      " |-- smart_225_normalized: integer (nullable = true)\n",
      " |-- smart_225_raw: integer (nullable = true)\n",
      " |-- smart_226_normalized: integer (nullable = true)\n",
      " |-- smart_226_raw: integer (nullable = true)\n",
      " |-- smart_231_normalized: integer (nullable = true)\n",
      " |-- smart_231_raw: long (nullable = true)\n",
      " |-- smart_232_normalized: integer (nullable = true)\n",
      " |-- smart_232_raw: long (nullable = true)\n",
      " |-- smart_233_normalized: integer (nullable = true)\n",
      " |-- smart_233_raw: integer (nullable = true)\n",
      " |-- smart_235_normalized: integer (nullable = true)\n",
      " |-- smart_235_raw: long (nullable = true)\n",
      " |-- smart_240_normalized: integer (nullable = true)\n",
      " |-- smart_240_raw: long (nullable = true)\n",
      " |-- smart_241_normalized: integer (nullable = true)\n",
      " |-- smart_241_raw: long (nullable = true)\n",
      " |-- smart_242_normalized: integer (nullable = true)\n",
      " |-- smart_242_raw: long (nullable = true)\n",
      " |-- smart_250_normalized: integer (nullable = true)\n",
      " |-- smart_250_raw: integer (nullable = true)\n",
      " |-- smart_251_normalized: integer (nullable = true)\n",
      " |-- smart_251_raw: integer (nullable = true)\n",
      " |-- smart_252_normalized: integer (nullable = true)\n",
      " |-- smart_252_raw: integer (nullable = true)\n",
      " |-- smart_254_normalized: integer (nullable = true)\n",
      " |-- smart_254_raw: integer (nullable = true)\n",
      " |-- smart_255_normalized: string (nullable = true)\n",
      " |-- smart_255_raw: string (nullable = true)\n",
      "\n"
     ]
    }
   ],
   "source": [
    "df.printSchema()"
   ]
  },
  {
   "cell_type": "code",
   "execution_count": 76,
   "metadata": {},
   "outputs": [],
   "source": [
    "spark.stop()"
   ]
  },
  {
   "cell_type": "code",
   "execution_count": null,
   "metadata": {},
   "outputs": [],
   "source": []
  }
 ],
 "metadata": {
  "kernelspec": {
   "display_name": "Python 3",
   "language": "python",
   "name": "python3"
  },
  "language_info": {
   "codemirror_mode": {
    "name": "ipython",
    "version": 3
   },
   "file_extension": ".py",
   "mimetype": "text/x-python",
   "name": "python",
   "nbconvert_exporter": "python",
   "pygments_lexer": "ipython3",
   "version": "3.7.4"
  }
 },
 "nbformat": 4,
 "nbformat_minor": 4
}
